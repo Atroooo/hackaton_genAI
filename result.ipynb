{
 "cells": [
  {
   "cell_type": "code",
   "execution_count": 5,
   "metadata": {},
   "outputs": [
    {
     "data": {
      "text/plain": [
       "(0.4626865671641791, 0.5)"
      ]
     },
     "execution_count": 5,
     "metadata": {},
     "output_type": "execute_result"
    }
   ],
   "source": [
    "#penguin analysis\n",
    "# Load the first dataset (Corrected_Data_First_100.xlsx)\n",
    "import pandas as pd\n",
    "file1_path = \"data/test_data.xlsx\"\n",
    "\n",
    "df1 = pd.read_excel(file1_path)\n",
    "\n",
    "\n",
    "\n",
    "# Load the second dataset (results.xlsx)\n",
    "\n",
    "file2_path = \"results/results_10%.xlsx\"\n",
    "\n",
    "df2 = pd.read_excel(file2_path)\n",
    "\n",
    "\n",
    "\n",
    "# Standardize column names for comparison\n",
    "\n",
    "df1 = df1.rename(columns={\"Qualité du retour\": \"Sentiment\", \"Thème\": \"Category\"})\n",
    "\n",
    "df2 = df2.rename(columns={\"Sentiment\": \"Sentiment\", \"Catégorie\": \"Category\"})\n",
    "\n",
    "# Strip leading and trailing spaces from both columns\n",
    "df1[\"Sentiment\"] = df1[\"Sentiment\"].astype(str).str.strip()\n",
    "df1[\"Category\"] = df1[\"Category\"].astype(str).str.strip()\n",
    "df2[\"Sentiment\"] = df2[\"Sentiment\"].astype(str).str.strip()\n",
    "df2[\"Category\"] = df2[\"Category\"].astype(str).str.strip()\n",
    "\n",
    "# Ensure both dataframes have the same length\n",
    "\n",
    "min_length = min(len(df1), len(df2))\n",
    "\n",
    "df1 = df1.head(min_length)\n",
    "\n",
    "df2 = df2.head(min_length)\n",
    "\n",
    "# Compute accuracy for \"Sentiment\" column\n",
    "\n",
    "sentiment_accuracy = (df1[\"Sentiment\"] == df2[\"Sentiment\"]).mean()\n",
    "\n",
    "# Compute accuracy for \"Category\" column\n",
    "\n",
    "category_accuracy = (df1[\"Category\"] == df2[\"Category\"]).mean()\n",
    "\n",
    "sentiment_accuracy, category_accuracy"
   ]
  },
  {
   "cell_type": "code",
   "execution_count": 4,
   "metadata": {},
   "outputs": [
    {
     "data": {
      "text/plain": [
       "(0             Factuel\n",
       " 1             Factuel\n",
       " 2             Factuel\n",
       " 3             Factuel\n",
       " 4             Factuel\n",
       "             ...      \n",
       " 129    Positif nuancé\n",
       " 130    Positif nuancé\n",
       " 131    Positif nuancé\n",
       " 132    Positif nuancé\n",
       " 133    Positif nuancé\n",
       " Name: Sentiment, Length: 134, dtype: object,\n",
       " 0              Factuel\n",
       " 1              Factuel\n",
       " 2              Factuel\n",
       " 3              Négatif\n",
       " 4              Factuel\n",
       "             ...       \n",
       " 129            Factuel\n",
       " 130            Factuel\n",
       " 131    Factuel positif\n",
       " 132            Négatif\n",
       " 133            Négatif\n",
       " Name: Sentiment, Length: 134, dtype: object)"
      ]
     },
     "execution_count": 4,
     "metadata": {},
     "output_type": "execute_result"
    }
   ],
   "source": [
    "df1[\"Sentiment\"],df2[\"Sentiment\"]"
   ]
  }
 ],
 "metadata": {
  "kernelspec": {
   "display_name": "hgenai",
   "language": "python",
   "name": "python3"
  },
  "language_info": {
   "codemirror_mode": {
    "name": "ipython",
    "version": 3
   },
   "file_extension": ".py",
   "mimetype": "text/x-python",
   "name": "python",
   "nbconvert_exporter": "python",
   "pygments_lexer": "ipython3",
   "version": "3.12.3"
  }
 },
 "nbformat": 4,
 "nbformat_minor": 2
}
