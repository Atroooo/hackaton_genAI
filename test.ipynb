{
 "cells": [
  {
   "cell_type": "code",
   "execution_count": 1,
   "metadata": {},
   "outputs": [],
   "source": [
    "import pandas as pd"
   ]
  },
  {
   "cell_type": "markdown",
   "metadata": {},
   "source": []
  },
  {
   "cell_type": "code",
   "execution_count": 2,
   "metadata": {},
   "outputs": [],
   "source": [
    "df = pd.read_excel('Data.xlsx')\n"
   ]
  },
  {
   "cell_type": "code",
   "execution_count": 3,
   "metadata": {},
   "outputs": [
    {
     "name": "stdout",
     "output_type": "stream",
     "text": [
      "        Date      Territoire  \\\n",
      "0 2023-01-02   Pas-de-Calais   \n",
      "1 2023-01-02  Pas-de-Calais    \n",
      "2 2023-01-02            Nord   \n",
      "3 2023-01-02   Pas-de-Calais   \n",
      "4 2023-01-02   Pas-de-Calais   \n",
      "5 2023-01-02   Pas-de-Calais   \n",
      "6 2023-01-02   Pas-de-Calais   \n",
      "7 2023-01-04            Nord   \n",
      "8 2023-01-04   Pas-de-Calais   \n",
      "9 2023-01-05            Nord   \n",
      "\n",
      "                                               Sujet                   Thème  \\\n",
      "0   Une maison à l'abandon détruite dans un incendie                  Divers   \n",
      "1     Trois familles relogés après un court-circuit                  Divers    \n",
      "2    Suite à une panne, 179 foyers privés de courant                  Réseau   \n",
      "3  Plus de coupures d'éléctricté, mais des dégâts...                  réseau   \n",
      "4  Les décharges remplacés par deux centrales pho...  Transition écologique    \n",
      "5        Une tempête Eunice qui à laissé des traces       Aléas climatiques    \n",
      "6                 Le feu das un immeuble désaffecté                   Divers   \n",
      "7  Enedis renouvelle son réseau dans plusieurs rues             Raccordement   \n",
      "8     Des coupures de courant en raison des travaux                   Réseau   \n",
      "9              les coupures d'éléctricté inquiètent                   Réseau   \n",
      "\n",
      "   Nbre d'article Qualité du retour                   Média  \\\n",
      "0             2.0           Factuel        La voix du Nord    \n",
      "1             1.0           Factuel        La voix du Nord    \n",
      "2             1.0  Factuel négatif         La voix du Nord    \n",
      "3             2.0           Négatif        La voix du Nord    \n",
      "4             1.0           Factuel        La voix du Nord    \n",
      "5             1.0           positif        La voix du Nord    \n",
      "6             2.0           Factuel        La voix du Nord    \n",
      "7             4.0         Factuel            Nord Littoral    \n",
      "8             1.0           Factuel   L'Avenir de l'Artois    \n",
      "9             1.0           Factuel  Le courrier de fourmis   \n",
      "\n",
      "                                            Articles Qualité du retour2  \\\n",
      "0  Une maison à l'abandon détruite dans un incend...            Factuel   \n",
      "1  Trois familles relogées après un court-circuit...            Factuel   \n",
      "2  Suite à une panne, 179 foyers privés de couran...   Factuel négatif    \n",
      "3  Plus de coupures d'électricité, mais des dégât...            Négatif   \n",
      "4   les décharges remplacées par deux centrales\\n...            Factuel   \n",
      "5  Une tempête Eunice qui a laissé des traces Ven...            positif   \n",
      "6  Le feu dans un immeuble désaffecté MONTIGNY-EN...            Factuel   \n",
      "7  Enedis renouvelle son réseau dans plusieurs ru...          Factuel     \n",
      "8  Des coupures de courant en raison des travauxF...            Factuel   \n",
      "9  COMMENT SE PRÉPARE-T-ON ?\\nLes coupures d’élec...            Factuel   \n",
      "\n",
      "           Tonalité  \n",
      "0           factuel  \n",
      "1           factuel  \n",
      "2  factuel négatif   \n",
      "3           négatif  \n",
      "4           factuel  \n",
      "5           positif  \n",
      "6           factuel  \n",
      "7         factuel    \n",
      "8           factuel  \n",
      "9           factuel  \n"
     ]
    }
   ],
   "source": [
    "print(df.head(10))"
   ]
  },
  {
   "cell_type": "code",
   "execution_count": 4,
   "metadata": {},
   "outputs": [
    {
     "name": "stdout",
     "output_type": "stream",
     "text": [
      "Thème\n",
      " Divers                                     1\n",
      " Mobilité électrique                        1\n",
      " réseau                                     1\n",
      "ALEAS CLIMATIQUE                          207\n",
      "Aléas Climatiques                           9\n",
      "Aléas climatique                            4\n",
      "Aléas climatiques                           8\n",
      "Aléas climatiques                           6\n",
      "CLIENTS                                     1\n",
      "Clients                                    16\n",
      "Clients                                     3\n",
      "Divers                                    448\n",
      "Divers                                      5\n",
      "Grèves                                     17\n",
      "Innovation                                  3\n",
      "Linky                                       7\n",
      "Marque employeur / RH                       1\n",
      "Marque employeur/RH                         2\n",
      "Mobilité électrique                         4\n",
      "Mobilité électrique                         3\n",
      "Partenariats industriels / académiques     28\n",
      "Prévention                                 10\n",
      "RH                                         16\n",
      "RH - Partenariat - RSE                      1\n",
      "RSE                                        13\n",
      "Raccordement                               35\n",
      "Réseau                                    145\n",
      "Réseau                                     25\n",
      "Transition écologique                      49\n",
      "cleints                                     1\n",
      "clients                                     8\n",
      "divers                                    146\n",
      "divers                                      2\n",
      "linky                                       1\n",
      "mobilité électrique                         4\n",
      "rh                                          1\n",
      "rse                                         3\n",
      "réseau                                     95\n",
      "réseau                                      6\n",
      "transition écologique                      39\n",
      "Name: Date, dtype: int64\n"
     ]
    }
   ],
   "source": [
    "print(df.groupby('Thème')[\"Date\"].count())"
   ]
  },
  {
   "cell_type": "markdown",
   "metadata": {},
   "source": [
    "Divers, Mobilité électrique, Réseau, Aléas Climatiques, Clients, Grèves, Innovation, Linky, Marque employeur / RH, Partenariats industriels / académiques, Prévention, Raccordement, Transition écologique"
   ]
  },
  {
   "cell_type": "code",
   "execution_count": 5,
   "metadata": {},
   "outputs": [],
   "source": [
    "# for i in range (0, len(df)):\n",
    "#     print(df['Articles'][i])"
   ]
  },
  {
   "cell_type": "code",
   "execution_count": 19,
   "metadata": {},
   "outputs": [],
   "source": [
    "other_prompt = {\"text\": \"Vous êtes un système d'analyse de sentiment. Instructions de langue: \\\n",
    "                    Langue d'entrée: français, Langue de sortie: français \\\n",
    "                    Il faudra 2 classifications: \\\n",
    "                        Sentiments: Positif, Négatif, Factuel, Factuel positif, Factuel négatif. \\\n",
    "                        Catégories: Divers, Mobilité électrique, Réseau, Aléas Climatiques, Clients, Grèves, Innovation, Linky, Marque employeur / RH, Partenariats industriels / académiques, Prévention, Raccordement, Transition écologique. \\\n",
    "                    Format de réponse: sentiment, catégorie\"}"
   ]
  },
  {
   "cell_type": "code",
   "execution_count": 8,
   "metadata": {},
   "outputs": [],
   "source": [
    "result = pd.read_excel('results.xlsx')"
   ]
  },
  {
   "cell_type": "code",
   "execution_count": 12,
   "metadata": {},
   "outputs": [
    {
     "name": "stdout",
     "output_type": "stream",
     "text": [
      "<class 'pandas.core.frame.DataFrame'>\n",
      "RangeIndex: 50 entries, 0 to 49\n",
      "Data columns (total 8 columns):\n",
      " #   Column      Non-Null Count  Dtype \n",
      "---  ------      --------------  ----- \n",
      " 0   Unnamed: 0  50 non-null     int64 \n",
      " 1   Date        48 non-null     object\n",
      " 2   Territoire  50 non-null     object\n",
      " 3   Sujet       50 non-null     object\n",
      " 4   Catégorie   50 non-null     object\n",
      " 5   Sentiment   50 non-null     object\n",
      " 6   Média       49 non-null     object\n",
      " 7   Article     50 non-null     object\n",
      "dtypes: int64(1), object(7)\n",
      "memory usage: 3.3+ KB\n"
     ]
    }
   ],
   "source": [
    "result.info()"
   ]
  },
  {
   "cell_type": "code",
   "execution_count": 10,
   "metadata": {},
   "outputs": [],
   "source": [
    "data = pd.read_excel('Data.xlsx')"
   ]
  },
  {
   "cell_type": "code",
   "execution_count": 11,
   "metadata": {},
   "outputs": [
    {
     "data": {
      "text/html": [
       "<div>\n",
       "<style scoped>\n",
       "    .dataframe tbody tr th:only-of-type {\n",
       "        vertical-align: middle;\n",
       "    }\n",
       "\n",
       "    .dataframe tbody tr th {\n",
       "        vertical-align: top;\n",
       "    }\n",
       "\n",
       "    .dataframe thead th {\n",
       "        text-align: right;\n",
       "    }\n",
       "</style>\n",
       "<table border=\"1\" class=\"dataframe\">\n",
       "  <thead>\n",
       "    <tr style=\"text-align: right;\">\n",
       "      <th></th>\n",
       "      <th>Date</th>\n",
       "      <th>Territoire</th>\n",
       "      <th>Sujet</th>\n",
       "      <th>Thème</th>\n",
       "      <th>Nbre d'article</th>\n",
       "      <th>Qualité du retour</th>\n",
       "      <th>Média</th>\n",
       "      <th>Articles</th>\n",
       "      <th>Qualité du retour2</th>\n",
       "      <th>Tonalité</th>\n",
       "    </tr>\n",
       "  </thead>\n",
       "  <tbody>\n",
       "    <tr>\n",
       "      <th>0</th>\n",
       "      <td>2023-01-02</td>\n",
       "      <td>Pas-de-Calais</td>\n",
       "      <td>Une maison à l'abandon détruite dans un incendie</td>\n",
       "      <td>Divers</td>\n",
       "      <td>2.0</td>\n",
       "      <td>Factuel</td>\n",
       "      <td>La voix du Nord</td>\n",
       "      <td>Une maison à l'abandon détruite dans un incend...</td>\n",
       "      <td>Factuel</td>\n",
       "      <td>factuel</td>\n",
       "    </tr>\n",
       "    <tr>\n",
       "      <th>1</th>\n",
       "      <td>2023-01-02</td>\n",
       "      <td>Pas-de-Calais</td>\n",
       "      <td>Trois familles relogés après un court-circuit</td>\n",
       "      <td>Divers</td>\n",
       "      <td>1.0</td>\n",
       "      <td>Factuel</td>\n",
       "      <td>La voix du Nord</td>\n",
       "      <td>Trois familles relogées après un court-circuit...</td>\n",
       "      <td>Factuel</td>\n",
       "      <td>factuel</td>\n",
       "    </tr>\n",
       "    <tr>\n",
       "      <th>2</th>\n",
       "      <td>2023-01-02</td>\n",
       "      <td>Nord</td>\n",
       "      <td>Suite à une panne, 179 foyers privés de courant</td>\n",
       "      <td>Réseau</td>\n",
       "      <td>1.0</td>\n",
       "      <td>Factuel négatif</td>\n",
       "      <td>La voix du Nord</td>\n",
       "      <td>Suite à une panne, 179 foyers privés de couran...</td>\n",
       "      <td>Factuel négatif</td>\n",
       "      <td>factuel négatif</td>\n",
       "    </tr>\n",
       "    <tr>\n",
       "      <th>3</th>\n",
       "      <td>2023-01-02</td>\n",
       "      <td>Pas-de-Calais</td>\n",
       "      <td>Plus de coupures d'éléctricté, mais des dégâts...</td>\n",
       "      <td>réseau</td>\n",
       "      <td>2.0</td>\n",
       "      <td>Négatif</td>\n",
       "      <td>La voix du Nord</td>\n",
       "      <td>Plus de coupures d'électricité, mais des dégât...</td>\n",
       "      <td>Négatif</td>\n",
       "      <td>négatif</td>\n",
       "    </tr>\n",
       "    <tr>\n",
       "      <th>4</th>\n",
       "      <td>2023-01-02</td>\n",
       "      <td>Pas-de-Calais</td>\n",
       "      <td>Les décharges remplacés par deux centrales pho...</td>\n",
       "      <td>Transition écologique</td>\n",
       "      <td>1.0</td>\n",
       "      <td>Factuel</td>\n",
       "      <td>La voix du Nord</td>\n",
       "      <td>les décharges remplacées par deux centrales\\n...</td>\n",
       "      <td>Factuel</td>\n",
       "      <td>factuel</td>\n",
       "    </tr>\n",
       "  </tbody>\n",
       "</table>\n",
       "</div>"
      ],
      "text/plain": [
       "        Date      Territoire  \\\n",
       "0 2023-01-02   Pas-de-Calais   \n",
       "1 2023-01-02  Pas-de-Calais    \n",
       "2 2023-01-02            Nord   \n",
       "3 2023-01-02   Pas-de-Calais   \n",
       "4 2023-01-02   Pas-de-Calais   \n",
       "\n",
       "                                               Sujet                   Thème  \\\n",
       "0   Une maison à l'abandon détruite dans un incendie                  Divers   \n",
       "1     Trois familles relogés après un court-circuit                  Divers    \n",
       "2    Suite à une panne, 179 foyers privés de courant                  Réseau   \n",
       "3  Plus de coupures d'éléctricté, mais des dégâts...                  réseau   \n",
       "4  Les décharges remplacés par deux centrales pho...  Transition écologique    \n",
       "\n",
       "   Nbre d'article Qualité du retour             Média  \\\n",
       "0             2.0           Factuel  La voix du Nord    \n",
       "1             1.0           Factuel  La voix du Nord    \n",
       "2             1.0  Factuel négatif   La voix du Nord    \n",
       "3             2.0           Négatif  La voix du Nord    \n",
       "4             1.0           Factuel  La voix du Nord    \n",
       "\n",
       "                                            Articles Qualité du retour2  \\\n",
       "0  Une maison à l'abandon détruite dans un incend...            Factuel   \n",
       "1  Trois familles relogées après un court-circuit...            Factuel   \n",
       "2  Suite à une panne, 179 foyers privés de couran...   Factuel négatif    \n",
       "3  Plus de coupures d'électricité, mais des dégât...            Négatif   \n",
       "4   les décharges remplacées par deux centrales\\n...            Factuel   \n",
       "\n",
       "           Tonalité  \n",
       "0           factuel  \n",
       "1           factuel  \n",
       "2  factuel négatif   \n",
       "3           négatif  \n",
       "4           factuel  "
      ]
     },
     "execution_count": 11,
     "metadata": {},
     "output_type": "execute_result"
    }
   ],
   "source": [
    "data.head()"
   ]
  },
  {
   "cell_type": "code",
   "execution_count": 15,
   "metadata": {},
   "outputs": [],
   "source": [
    "data = data.drop(columns=['Qualité du retour2', 'Tonalité'])"
   ]
  },
  {
   "cell_type": "code",
   "execution_count": 16,
   "metadata": {},
   "outputs": [
    {
     "data": {
      "text/html": [
       "<div>\n",
       "<style scoped>\n",
       "    .dataframe tbody tr th:only-of-type {\n",
       "        vertical-align: middle;\n",
       "    }\n",
       "\n",
       "    .dataframe tbody tr th {\n",
       "        vertical-align: top;\n",
       "    }\n",
       "\n",
       "    .dataframe thead th {\n",
       "        text-align: right;\n",
       "    }\n",
       "</style>\n",
       "<table border=\"1\" class=\"dataframe\">\n",
       "  <thead>\n",
       "    <tr style=\"text-align: right;\">\n",
       "      <th></th>\n",
       "      <th>Date</th>\n",
       "      <th>Territoire</th>\n",
       "      <th>Sujet</th>\n",
       "      <th>Thème</th>\n",
       "      <th>Nbre d'article</th>\n",
       "      <th>Qualité du retour</th>\n",
       "      <th>Média</th>\n",
       "      <th>Articles</th>\n",
       "    </tr>\n",
       "  </thead>\n",
       "  <tbody>\n",
       "    <tr>\n",
       "      <th>0</th>\n",
       "      <td>2023-01-02</td>\n",
       "      <td>Pas-de-Calais</td>\n",
       "      <td>Une maison à l'abandon détruite dans un incendie</td>\n",
       "      <td>Divers</td>\n",
       "      <td>2.0</td>\n",
       "      <td>Factuel</td>\n",
       "      <td>La voix du Nord</td>\n",
       "      <td>Une maison à l'abandon détruite dans un incend...</td>\n",
       "    </tr>\n",
       "    <tr>\n",
       "      <th>1</th>\n",
       "      <td>2023-01-02</td>\n",
       "      <td>Pas-de-Calais</td>\n",
       "      <td>Trois familles relogés après un court-circuit</td>\n",
       "      <td>Divers</td>\n",
       "      <td>1.0</td>\n",
       "      <td>Factuel</td>\n",
       "      <td>La voix du Nord</td>\n",
       "      <td>Trois familles relogées après un court-circuit...</td>\n",
       "    </tr>\n",
       "    <tr>\n",
       "      <th>2</th>\n",
       "      <td>2023-01-02</td>\n",
       "      <td>Nord</td>\n",
       "      <td>Suite à une panne, 179 foyers privés de courant</td>\n",
       "      <td>Réseau</td>\n",
       "      <td>1.0</td>\n",
       "      <td>Factuel négatif</td>\n",
       "      <td>La voix du Nord</td>\n",
       "      <td>Suite à une panne, 179 foyers privés de couran...</td>\n",
       "    </tr>\n",
       "    <tr>\n",
       "      <th>3</th>\n",
       "      <td>2023-01-02</td>\n",
       "      <td>Pas-de-Calais</td>\n",
       "      <td>Plus de coupures d'éléctricté, mais des dégâts...</td>\n",
       "      <td>réseau</td>\n",
       "      <td>2.0</td>\n",
       "      <td>Négatif</td>\n",
       "      <td>La voix du Nord</td>\n",
       "      <td>Plus de coupures d'électricité, mais des dégât...</td>\n",
       "    </tr>\n",
       "    <tr>\n",
       "      <th>4</th>\n",
       "      <td>2023-01-02</td>\n",
       "      <td>Pas-de-Calais</td>\n",
       "      <td>Les décharges remplacés par deux centrales pho...</td>\n",
       "      <td>Transition écologique</td>\n",
       "      <td>1.0</td>\n",
       "      <td>Factuel</td>\n",
       "      <td>La voix du Nord</td>\n",
       "      <td>les décharges remplacées par deux centrales\\n...</td>\n",
       "    </tr>\n",
       "  </tbody>\n",
       "</table>\n",
       "</div>"
      ],
      "text/plain": [
       "        Date      Territoire  \\\n",
       "0 2023-01-02   Pas-de-Calais   \n",
       "1 2023-01-02  Pas-de-Calais    \n",
       "2 2023-01-02            Nord   \n",
       "3 2023-01-02   Pas-de-Calais   \n",
       "4 2023-01-02   Pas-de-Calais   \n",
       "\n",
       "                                               Sujet                   Thème  \\\n",
       "0   Une maison à l'abandon détruite dans un incendie                  Divers   \n",
       "1     Trois familles relogés après un court-circuit                  Divers    \n",
       "2    Suite à une panne, 179 foyers privés de courant                  Réseau   \n",
       "3  Plus de coupures d'éléctricté, mais des dégâts...                  réseau   \n",
       "4  Les décharges remplacés par deux centrales pho...  Transition écologique    \n",
       "\n",
       "   Nbre d'article Qualité du retour             Média  \\\n",
       "0             2.0           Factuel  La voix du Nord    \n",
       "1             1.0           Factuel  La voix du Nord    \n",
       "2             1.0  Factuel négatif   La voix du Nord    \n",
       "3             2.0           Négatif  La voix du Nord    \n",
       "4             1.0           Factuel  La voix du Nord    \n",
       "\n",
       "                                            Articles  \n",
       "0  Une maison à l'abandon détruite dans un incend...  \n",
       "1  Trois familles relogées après un court-circuit...  \n",
       "2  Suite à une panne, 179 foyers privés de couran...  \n",
       "3  Plus de coupures d'électricité, mais des dégât...  \n",
       "4   les décharges remplacées par deux centrales\\n...  "
      ]
     },
     "execution_count": 16,
     "metadata": {},
     "output_type": "execute_result"
    }
   ],
   "source": [
    "data.head()"
   ]
  },
  {
   "cell_type": "code",
   "execution_count": 45,
   "metadata": {},
   "outputs": [],
   "source": [
    "json = data.to_json(orient='records')\n"
   ]
  },
  {
   "cell_type": "code",
   "execution_count": 46,
   "metadata": {},
   "outputs": [],
   "source": [
    "with open('output.json', 'w') as f:\n",
    "    f.write(json)"
   ]
  },
  {
   "cell_type": "code",
   "execution_count": 36,
   "metadata": {},
   "outputs": [],
   "source": [
    "backup = data.copy()"
   ]
  },
  {
   "cell_type": "code",
   "execution_count": 40,
   "metadata": {},
   "outputs": [],
   "source": [
    "data = backup.copy()"
   ]
  },
  {
   "cell_type": "code",
   "execution_count": 44,
   "metadata": {},
   "outputs": [],
   "source": [
    "data['text'] = data['text'].astype(str).str.replace(r'[éèêë]', 'e', regex=True).str.replace(r'[àâä]', 'a', regex=True).str.replace(r'[ç]', 'c')\n",
    "data['sujet'] = data['sujet'].astype(str).str.replace(r'[éèêë]', 'e', regex=True).str.replace(r'[àâä]', 'a', regex=True).str.replace(r'[ç]', 'c')"
   ]
  },
  {
   "cell_type": "code",
   "execution_count": 42,
   "metadata": {},
   "outputs": [],
   "source": [
    "data = data.rename(columns={'Date': 'timestamp', 'Territoire': 'territoire', 'Sujet': 'sujet', 'Articles': 'text', 'Thème': 'theme', 'Qualité du retour': 'retour', 'Média': 'media'})"
   ]
  },
  {
   "cell_type": "code",
   "execution_count": 68,
   "metadata": {},
   "outputs": [],
   "source": [
    "examples = data.copy()\n",
    "examples.drop(columns=['timestamp', 'territoire', 'sujet', 'media'], inplace=True)"
   ]
  },
  {
   "cell_type": "code",
   "execution_count": 70,
   "metadata": {},
   "outputs": [
    {
     "name": "stdout",
     "output_type": "stream",
     "text": [
      "                       theme            retour  \\\n",
      "0                     Divers           Factuel   \n",
      "1                    Divers            Factuel   \n",
      "2                     Réseau  Factuel négatif    \n",
      "3                     réseau           Négatif   \n",
      "4     Transition écologique            Factuel   \n",
      "...                      ...               ...   \n",
      "1370                  divers           factuel   \n",
      "1371                  réseau    négatif nuancé   \n",
      "1372                  réseau           factuel   \n",
      "1373                  divers           factuel   \n",
      "1374  transition écologique            factuel   \n",
      "\n",
      "                                                   text  \n",
      "0     Une maison a l'abandon detruite dans un incend...  \n",
      "1     Trois familles relogees apres un court-circuit...  \n",
      "2     Suite a une panne, 179 foyers prives de couran...  \n",
      "3     Plus de coupures d'electricite, mais des degat...  \n",
      "4      les decharges remplacees par deux centrales\\n...  \n",
      "...                                                 ...  \n",
      "1370  Vendredi 26 juillet, au matin, les pompiers so...  \n",
      "1371  Selon Enedis, la panne causee\\navant-hier apre...  \n",
      "1372  La piscine intercommunale rouvre ses portes au...  \n",
      "1373  Ce lundi 22 juillet, aux environs\\nde 20h, les...  \n",
      "1374  Du côte de l’ecole elementaire\\nLeo-Lagrange, ...  \n",
      "\n",
      "[1375 rows x 3 columns]\n"
     ]
    }
   ],
   "source": [
    "print(examples)"
   ]
  },
  {
   "cell_type": "code",
   "execution_count": 71,
   "metadata": {},
   "outputs": [],
   "source": [
    "examples = examples.dropna()"
   ]
  },
  {
   "cell_type": "code",
   "execution_count": 72,
   "metadata": {},
   "outputs": [
    {
     "name": "stdout",
     "output_type": "stream",
     "text": [
      "theme     0\n",
      "retour    0\n",
      "text      0\n",
      "dtype: int64\n"
     ]
    }
   ],
   "source": [
    "print(examples.isna().sum())"
   ]
  },
  {
   "cell_type": "code",
   "execution_count": 73,
   "metadata": {},
   "outputs": [],
   "source": [
    "examples_clean = examples.sample(20).dropna()"
   ]
  },
  {
   "cell_type": "code",
   "execution_count": 74,
   "metadata": {},
   "outputs": [],
   "source": [
    "json = examples_clean.to_json(orient='records')\n",
    "with open('examples.json', 'w') as f:\n",
    "    f.write(json)"
   ]
  },
  {
   "cell_type": "code",
   "execution_count": 81,
   "metadata": {},
   "outputs": [
    {
     "name": "stdout",
     "output_type": "stream",
     "text": [
      "test\n"
     ]
    }
   ],
   "source": [
    "test = \"testa\"\n",
    "test = test[:-1]\n",
    "print(test)"
   ]
  },
  {
   "cell_type": "code",
   "execution_count": 93,
   "metadata": {},
   "outputs": [
    {
     "ename": "JSONDecodeError",
     "evalue": "Expecting value: line 1 column 35 (char 34)",
     "output_type": "error",
     "traceback": [
      "\u001b[1;31m---------------------------------------------------------------------------\u001b[0m",
      "\u001b[1;31mJSONDecodeError\u001b[0m                           Traceback (most recent call last)",
      "Cell \u001b[1;32mIn[93], line 5\u001b[0m\n\u001b[0;32m      1\u001b[0m \u001b[38;5;28mstr\u001b[39m \u001b[38;5;241m=\u001b[39m \u001b[38;5;124m'\u001b[39m\u001b[38;5;124m[\u001b[39m\u001b[38;5;124m{\u001b[39m\u001b[38;5;124m\"\u001b[39m\u001b[38;5;124mDate\u001b[39m\u001b[38;5;124m\"\u001b[39m\u001b[38;5;124m: \u001b[39m\u001b[38;5;124m\"\u001b[39m\u001b[38;5;124mjeudi 2 janvier 2025\u001b[39m\u001b[38;5;124m\"\u001b[39m\u001b[38;5;124m},]\u001b[39m\u001b[38;5;124m'\u001b[39m\n\u001b[0;32m      3\u001b[0m \u001b[38;5;28;01mimport\u001b[39;00m\u001b[38;5;250m \u001b[39m\u001b[38;5;21;01mjson\u001b[39;00m\n\u001b[1;32m----> 5\u001b[0m test \u001b[38;5;241m=\u001b[39m \u001b[43mjson\u001b[49m\u001b[38;5;241;43m.\u001b[39;49m\u001b[43mloads\u001b[49m\u001b[43m(\u001b[49m\u001b[38;5;28;43mstr\u001b[39;49m\u001b[43m)\u001b[49m\n",
      "File \u001b[1;32mc:\\Users\\lucas\\AppData\\Local\\Programs\\Python\\Python312\\Lib\\json\\__init__.py:346\u001b[0m, in \u001b[0;36mloads\u001b[1;34m(s, cls, object_hook, parse_float, parse_int, parse_constant, object_pairs_hook, **kw)\u001b[0m\n\u001b[0;32m    341\u001b[0m     s \u001b[38;5;241m=\u001b[39m s\u001b[38;5;241m.\u001b[39mdecode(detect_encoding(s), \u001b[38;5;124m'\u001b[39m\u001b[38;5;124msurrogatepass\u001b[39m\u001b[38;5;124m'\u001b[39m)\n\u001b[0;32m    343\u001b[0m \u001b[38;5;28;01mif\u001b[39;00m (\u001b[38;5;28mcls\u001b[39m \u001b[38;5;129;01mis\u001b[39;00m \u001b[38;5;28;01mNone\u001b[39;00m \u001b[38;5;129;01mand\u001b[39;00m object_hook \u001b[38;5;129;01mis\u001b[39;00m \u001b[38;5;28;01mNone\u001b[39;00m \u001b[38;5;129;01mand\u001b[39;00m\n\u001b[0;32m    344\u001b[0m         parse_int \u001b[38;5;129;01mis\u001b[39;00m \u001b[38;5;28;01mNone\u001b[39;00m \u001b[38;5;129;01mand\u001b[39;00m parse_float \u001b[38;5;129;01mis\u001b[39;00m \u001b[38;5;28;01mNone\u001b[39;00m \u001b[38;5;129;01mand\u001b[39;00m\n\u001b[0;32m    345\u001b[0m         parse_constant \u001b[38;5;129;01mis\u001b[39;00m \u001b[38;5;28;01mNone\u001b[39;00m \u001b[38;5;129;01mand\u001b[39;00m object_pairs_hook \u001b[38;5;129;01mis\u001b[39;00m \u001b[38;5;28;01mNone\u001b[39;00m \u001b[38;5;129;01mand\u001b[39;00m \u001b[38;5;129;01mnot\u001b[39;00m kw):\n\u001b[1;32m--> 346\u001b[0m     \u001b[38;5;28;01mreturn\u001b[39;00m \u001b[43m_default_decoder\u001b[49m\u001b[38;5;241;43m.\u001b[39;49m\u001b[43mdecode\u001b[49m\u001b[43m(\u001b[49m\u001b[43ms\u001b[49m\u001b[43m)\u001b[49m\n\u001b[0;32m    347\u001b[0m \u001b[38;5;28;01mif\u001b[39;00m \u001b[38;5;28mcls\u001b[39m \u001b[38;5;129;01mis\u001b[39;00m \u001b[38;5;28;01mNone\u001b[39;00m:\n\u001b[0;32m    348\u001b[0m     \u001b[38;5;28mcls\u001b[39m \u001b[38;5;241m=\u001b[39m JSONDecoder\n",
      "File \u001b[1;32mc:\\Users\\lucas\\AppData\\Local\\Programs\\Python\\Python312\\Lib\\json\\decoder.py:337\u001b[0m, in \u001b[0;36mJSONDecoder.decode\u001b[1;34m(self, s, _w)\u001b[0m\n\u001b[0;32m    332\u001b[0m \u001b[38;5;28;01mdef\u001b[39;00m\u001b[38;5;250m \u001b[39m\u001b[38;5;21mdecode\u001b[39m(\u001b[38;5;28mself\u001b[39m, s, _w\u001b[38;5;241m=\u001b[39mWHITESPACE\u001b[38;5;241m.\u001b[39mmatch):\n\u001b[0;32m    333\u001b[0m \u001b[38;5;250m    \u001b[39m\u001b[38;5;124;03m\"\"\"Return the Python representation of ``s`` (a ``str`` instance\u001b[39;00m\n\u001b[0;32m    334\u001b[0m \u001b[38;5;124;03m    containing a JSON document).\u001b[39;00m\n\u001b[0;32m    335\u001b[0m \n\u001b[0;32m    336\u001b[0m \u001b[38;5;124;03m    \"\"\"\u001b[39;00m\n\u001b[1;32m--> 337\u001b[0m     obj, end \u001b[38;5;241m=\u001b[39m \u001b[38;5;28;43mself\u001b[39;49m\u001b[38;5;241;43m.\u001b[39;49m\u001b[43mraw_decode\u001b[49m\u001b[43m(\u001b[49m\u001b[43ms\u001b[49m\u001b[43m,\u001b[49m\u001b[43m \u001b[49m\u001b[43midx\u001b[49m\u001b[38;5;241;43m=\u001b[39;49m\u001b[43m_w\u001b[49m\u001b[43m(\u001b[49m\u001b[43ms\u001b[49m\u001b[43m,\u001b[49m\u001b[43m \u001b[49m\u001b[38;5;241;43m0\u001b[39;49m\u001b[43m)\u001b[49m\u001b[38;5;241;43m.\u001b[39;49m\u001b[43mend\u001b[49m\u001b[43m(\u001b[49m\u001b[43m)\u001b[49m\u001b[43m)\u001b[49m\n\u001b[0;32m    338\u001b[0m     end \u001b[38;5;241m=\u001b[39m _w(s, end)\u001b[38;5;241m.\u001b[39mend()\n\u001b[0;32m    339\u001b[0m     \u001b[38;5;28;01mif\u001b[39;00m end \u001b[38;5;241m!=\u001b[39m \u001b[38;5;28mlen\u001b[39m(s):\n",
      "File \u001b[1;32mc:\\Users\\lucas\\AppData\\Local\\Programs\\Python\\Python312\\Lib\\json\\decoder.py:355\u001b[0m, in \u001b[0;36mJSONDecoder.raw_decode\u001b[1;34m(self, s, idx)\u001b[0m\n\u001b[0;32m    353\u001b[0m     obj, end \u001b[38;5;241m=\u001b[39m \u001b[38;5;28mself\u001b[39m\u001b[38;5;241m.\u001b[39mscan_once(s, idx)\n\u001b[0;32m    354\u001b[0m \u001b[38;5;28;01mexcept\u001b[39;00m \u001b[38;5;167;01mStopIteration\u001b[39;00m \u001b[38;5;28;01mas\u001b[39;00m err:\n\u001b[1;32m--> 355\u001b[0m     \u001b[38;5;28;01mraise\u001b[39;00m JSONDecodeError(\u001b[38;5;124m\"\u001b[39m\u001b[38;5;124mExpecting value\u001b[39m\u001b[38;5;124m\"\u001b[39m, s, err\u001b[38;5;241m.\u001b[39mvalue) \u001b[38;5;28;01mfrom\u001b[39;00m\u001b[38;5;250m \u001b[39m\u001b[38;5;28;01mNone\u001b[39;00m\n\u001b[0;32m    356\u001b[0m \u001b[38;5;28;01mreturn\u001b[39;00m obj, end\n",
      "\u001b[1;31mJSONDecodeError\u001b[0m: Expecting value: line 1 column 35 (char 34)"
     ]
    }
   ],
   "source": [
    "str = '[{\"Date\": \"jeudi 2 janvier 2025\"},]'\n",
    "\n",
    "import json\n",
    "\n",
    "test = json.loads(str)"
   ]
  },
  {
   "cell_type": "code",
   "execution_count": 90,
   "metadata": {},
   "outputs": [
    {
     "ename": "SyntaxError",
     "evalue": "invalid character '’' (U+2019) (1834607682.py, line 1)",
     "output_type": "error",
     "traceback": [
      "\u001b[1;36m  Cell \u001b[1;32mIn[90], line 1\u001b[1;36m\u001b[0m\n\u001b[1;33m    len('{\"Date\": \"jeudi 2 janvier 2025\", \"Territoire\": \"Nord\", \"Sujet\": \"Un incendie dans une maison squattée\", \"Média\": \"La Voix Du Nord\", \"Article\": \"Recquignies. Ce mardi, en milieu d’après-midi, il était environ 16 heures lorsque les sapeurs-pompiers ont été appelés pour intervenir à Recquignies. Un incendie s’est déclenché au sein d’une maison de la rue Paul-Ronval. Sur place, les soldats du feu ont été rejoints par des agents d’Enedis et par la gendarmerie, qui s’est occupée de la circulation le temps de l’intervention. Aucune voie n’a été bloquée, mais il fallait ralentir au niveau de la zone concernée.\\n\\nDes squats réguliers\\nLa maison frappée par l’incendie n’a pas subi de dégâts trop importants. Le bâtiment serait par ailleurs inoccupé depuis de nombreuses années. Ainsi aucune victime n’est à déplorer et aucune évacuation n’a été réalisée. Selon des riverains voisins, des squatteurs occuperaient régulièrement les lieux. Bien que personne n’ait été aperçu sur place à l’heure de départ du feu, un squat récent pourrait donc en être à l’origine. M. Br.\"}{\"Date\": \"jeudi 2 janvier 2025\", \"Territoire\": \"Nord\", \"Sujet\": \"Coupure de courant pour travaux à Aniche\", \"Média\": \"La Voix Du Nord\", \"Article\": \"Afin d’améliorer la qualité de la distribution électrique, des travaux vont être réalisés par ENEDIS dans les rues Élie-Fendali, voie Sentron, chemin de Villers Campeau. Jeudi 16 janvier, de 8 h à 12 h. Tél. : 09 72 67 50 59.\"}, {\"Date\": \"jeudi 2 janvier 2025\", \"Territoire\": \"Nord\", \"Sujet\": \"Cérémonie des vœux du maire et des membres du Conseil municipal à Bugnicourt\", \"Média\": \"La Voix Du Nord\", \"Article\": \"Dimanche, à 11 h, salle des fêtes, rue de l’Égalité.\"}, {\"Date\": \"jeudi 2 janvier 2025\", \"Territoire\": \"Nord\", \"Sujet\": \"Quatre-vingtième anniversaire de la Libération à Douai\", \"Média\": \"La Voix Du Nord\", \"Article\": \"Tout document relatif à ce moment de liesse viendra compléter les fonds communaux, déjà riches et permettra d’alimenter et d’écrire l‘histoire collective. Du lundi au vendredi, de 13 h 30 à 17 h, Archives municipales, 45, rue de l’Université. archives@ville-douai.fr, tél. : 03 27 93 58 47.\"}, {\"Date\": \"jeudi 2 janvier 2025\", \"Territoire\": \"Nord\", \"Sujet\": \"Fermeture des piscines à Douai\", \"Média\": \"La Voix Du Nord\", \"Article\": \"Pour la piscine des Glacis, jusqu’au dimanche 12 janvier et Beau Soleil jusqu’à ce dimanche. Piscine Tournesol Beausoleil, rue Charles-Bourseul. Tél. : 03 27 87 49 21, tél. : 03 27 97 30 28.\"}, {\"Date\": \"jeudi 2 janvier 2025\", \"Territoire\": \"Nord\", \"Sujet\": \"Visite commentée du Sénat à Douai\", \"Média\": \"La Voix Du Nord\", \"Article\": \"Avec temps libre au quartier de Notre-Dame. Se rapprocher de l’accueil de la MJC pour les inscriptions. Photocopie de carte d’identité ou passeport obligatoire. Vendredi 14 mars, de 6 h à 18 h, MJC, 215, rue d’Arleux. 35 € et 45 € non-adhérent. Réservation avant le mercredi 15 janvier : tél. : 03 27 71 18 18, mjc-douai.fr\"}, {\"Date\": \"jeudi 2 janvier 2025\", \"Territoire\": \"Nord\", \"Sujet\": \"Permanence de l’ANGDM à Douai\", \"Média\": \"La Voix Du Nord\", \"Article\": \"Ouvert à tous. Chaque troisième jeudi du mois. Jeudi 16 janvier, de 9 h à 10 h 30, France Services, 9, rue de Fontainebleau.\"}, {\"Date\": \"jeudi 2 janvier 2025\", \"Territoire\": \"Nord\", \"Sujet\": \"Fermeture de la piscine municipale à Somain\", \"Média\": \"La Voix Du Nord\", \"Article\": \"Pour maintenance technique annuelle. Jusqu’à dimanche.\"}]{\"Date\": \"jeudi 2 janvier 2025\", \"Territoire\": \"Nord\", \"Sujet\": \"Des hélicos à Noyelles\", \"Média\": \"La Voix Du Nord\", \"Article\": \"Si, depuis début décembre, vous entendez bourdonner des hélicoptères au-dessus de vos têtes lorsque vous passez par Noyelles-lès-Seclin, c’est normal. Dans le cadre de son programme d’entretien des ouvrages électriques, le distributeur d’énergie électrique Enedis mène actuellement une visite aérienne préventive d’un tiers environ de son réseau 20 000 volts, afin d’améliorer la qualité de la distribution. C’est une opération annuelle. Il y aura un survol, à très basse hauteur, des lignes surplombant Noyelles jusqu’au 31 janvier.\"}{\"Date\": \"jeudi 2 janvier 2025\", \"Territoire\": \"Pas de Calais\", \"Sujet\": \"Vents violents : un tiers de la commune privée d’électricité\", \"Média\": \"La Voix du Nord\", \"Article\": \"Les premiers foyers ont été touchés hier midi. Puis, dans le courant de l’après-midi, c’est « un tiers de la commune » qui s’est retrouvée privée d’électricité, d’après le maire d’Andres, Allan Turpin. Les rues Lannoy, du Milieu, des Écoles, de l’Église, du Moulin, la route de Balinghem… « Un secteur identique à la problématique qu’on avait eue le jour de l’incendie de la ferme », le 9 décembre, qui avait provoqué une coupure de courant « une journée complète ». Les pannes seraient « récurrentes » pour ces foyers d’après le maire, qui cite encore « une panne de trois jours rue de la Riviérette » fin 2020. D’après l’astreinte d’Enedis, cet incident est lié à un câble endommagé par la tempête qui a balayé le littoral hier. « Une quarantaine de clients ont eu l’électricité coupée. Nos équipes ont été à pied d’œuvre pour le rétablir, la situation est sous contrôle », assure Enedis. Le nombre de foyers touchés serait plus important d’après le maire, qui dénombre « 70 maisons rue du Milieu, une trentaine rue des Écoles, une quarantaine rue Lannoy, une vingtaine chemin de la Motte et du Moulin… » Peu avant 19 heures, le courant était revenu. « C’est une intervention courante, poursuit Enedis. Nous n’avons pas eu d’autre intervention dans le secteur ce mercredi, c’est relativement calme pour un avis de tempête. » À noter que les pompiers de Calais sont intervenus à Jardinland à Calais hier matin pour sécuriser les abords du magasin alors qu’une partie du toit s’était envolée. Jean-Philippe Delattre ■\"}{\"Date\": \"jeudi 2 janvier 2025\", \"Territoire\": \"Nord\", \"Sujet\": \"Grosse panne à Andres\", \"Média\": \"Nord Littoral\", \"Article\": \"Hier, à partir de midi, une coupure de courant a perturbé une partie de la commune d’Andres, privant d’électricité plusieurs dizaines d’habitations. Les zones touchées incluent la route de Balinghem, la rue Lannoy, la rue du Milieu, la rue de l’Église, la rue du Moulin, la rue des Écoles et l’impasse de la Motte. L’incident, qui tombe en plein jour de l’An, a suscité l’intervention d’Enedis. Les équipes techniques étaient sur place l’après-midi pour diagnostiquer et résoudre la panne. La situation devait être rétablie aux environs de 19 h. La panne n’a pas manqué de provoquer des réactions, notamment celle du maire de la commune, Allan Turpin, qui a exprimé son mécontentement sur Facebook : « Ras le bol des pannes d’électricité ! » Les causes exactes de la coupure restent à déterminer. La rue Lannoy est concernée.\"}{\"Date\": \"jeudi 2 janvier 2025\", \"Territoire\": \"Nord\", \"Sujet\": \"Après onze mois, les travaux de voirie sont enfin terminés\", \"Média\": \"La Voix du Nord\", \"Article\": \"Depuis début décembre, il est redevenu possible de traverser en voiture Bévil‐ lers. La conclusion d’importants travaux menés durant onze mois, sur deux fronts, et qui auront coûté un peu moins cher que prévu d’après le maire. BÉVILLERS. L’année 2024 a rimé avec travaux à Bévillers. À compter de la fin janvier, deux chantiers ont été menés en parallèle : l’enfouissement des réseaux (fibre, éclairage public, réseau d’électricité pu‐ blic) dans les rues du Calvaire, de l’Avenir, du Préau, de l’Arbre et du Jeune Bois, assu‐ ré par la commune ; et le passage souterrain de câbles haute tension reliant le poste source en cours d’aménagement aux parcs éo‐ liens du secteur. Onze mois plus tard, les derniers engins de chantier ont déserté les rues, le 10 dé‐ cembre, et la circulation a été rétablie – pendant une bonnepartie de l’année, un itinéraire de déviation a été maintenu, ajoutant 3 km environ à un tra‐ jet débuté depuis Caudry. Un coût réduit Pierre-Henri Dudant, maire de Bévillers, se réjouit que les tra‐ vaux soient terminés mais aussi que le coût en ait été réduit pour la commune. La princi‐ pale raison tient à la réfection des bordures de trottoir, dont le linéaire estimé a été ramené de 2,7 à 2,1 km : la facture a suivi, passant de 282 000 € TTC à 211 000 € TTC. Les discussions, indique le maire, se poursuivent avec Enedis au su‐ jet de la convention de coordination de travaux qui avait été signée et devait permettre à l’opérateur et à la commune de se partager le coût de la réfec‐ tion de voirie en lien avec les deux chantiers. L’État, le Département, et la communauté d’agglomération du Caudrésis-Catésis (CA2C) ont subventionné le chantier. L’année 2025 pourrait aussi ri‐ mer avec chantier, selon Pierre-Henri Dudant, avec le début attendu de la construc‐ tion par Partenord de 11 logements intergénérationnels sur le site de l’ancienne ferme Ri‐ chez, démolie en 2020. ■\"}{\"Date\": \"mercredi 1 janvier 2025\", \"Territoire\": \"Pas-de-Calais\", \"Sujet\": \"Incendie d’origine électrique dans une entreprise de Vendin-lès-Béthune le premier jour de l’année\", \"Média\": \"La Voix du Nord\", \"Article\": \"Le bâtiment de 300 m2 était très enfumé quand les pompiers sont intervenus rue Pierre-Mendès-France à Vendin-lès-Béthune, en ce premier jour de l’année, vers 20 h pour un incendie qui s’était déclaré dans une entreprise. Appelés vers 20 heures, ce mercredi, pour un incendie au sein de l’entreprise BCS – Bien chez soi, rue Pierre-Mendès-France à Vendin-lès-Béthune, les pompiers béthunois et nœuxois ont, une fois entrés dans le bâtiment, trouvé un local de 300 m² très enfumé. Ils ont rapidement trouvé l’origine de l’incendie qui était parti du tableau électrique. Une fois l’incendie éteint, sans causer d’importants dégâts, les pompiers ont ventilé le bâtiment pendant que le technicien d’Enedis coupait l’alimentation électrique et mettait l’installation en sécurité. Cet incendie n’impactera pas l’entreprise vendinoise qui a récemment cessé son activité.\"}{\"Date\": \"mercredi 2 février 2022\", \"Territoire\": \"Pas-de-Calais\", \"Sujet\": \"Intervention des pompiers à Jardiland à Calais\", \"Média\": \"La Voix du Nord\", \"Article\": \"À noter que les pompiers de Calais sont intervenus à Jardiland à Calais ce mercredi matin pour sécuriser les abords du magasin alors qu’une partie du toit s’était envolée. Consultez l’actualité en vidéo par Jean-Philippe Delattre.\"}{\"Date\": \"mercredi 1 janvier 2025\", \"Territoire\": \"Nord\", \"Sujet\": \"Des dizaines d’habitations privées d’électricité le jour de l’An à Andres\", \"Média\": \"Nord Littoral\", \"Article\": \"Une coupure de courant survenue à Andres ce jour de l’An touche plusieurs rues depuis midi, mobilisant Enedis qui prévoit un rétablissement à 19h. Depuis 12h ce 1er janvier, une coupure de courant perturbe une partie de la commune d’Andres, privant d’électricité plusieurs dizaines d’habitations. Les zones touchées incluent la route de Balinghem, la rue Lannoy, la rue du Milieu, la rue de l’Église, la rue du Moulin, la rue des Écoles et l’impasse de la Motte. L’incident, qui tombe en plein jour de l’An, a suscité l’intervention d’Enedis. Les équipes techniques étaient sur place l’après-midi pour diagnostiquer et résoudre la panne. La situation devait être rétablie aux environs de 19h. La panne n’a pas manqué de provoquer des réactions, notamment celle du maire de la commune, Allan Turpin, qui a exprimé son mécontentement sur Facebook : « Ras le bol des pannes d’électricité ! » Les causes exactes de la coupure restent à déterminer.\"}{\"Date\": \"mercredi 1 janvier 2025\", \"Territoire\": \"Nord\", \"Sujet\": \"Les travaux du contournement de la RD 642 prévus à partir du mois de mai\", \"Média\": \"L'Indicateur des Flandres\", \"Article\": \"C’est un projet qui est dans les cartons depuis des décennies. 2025 devrait voir le démarrage des travaux du contournement du tronçon de la RD 642 situé entre Strazeele et l’autoroute A25 à Méteren. L’idée est de créer une 2x2 voies sur 3,5 kilomètres au sud de la route actuelle. Le futur contournement traversera essentiellement la commune de Merris. Un projet qui n’est pas sans créer de la contestation : un collectif baptisé RD 642 grand projet inutile s’est récemment formé. Annoncés initialement pour janvier, les travaux devraient commencer en mai. Mais les choses s’activent d’ores et déjà autour de l’axe. En décembre, des travaux de dévoiement Enedis ont été réalisés, occasionnant d’importants bouchons. Des travaux de déboisement sont prévus en février, avant la période de nidification. Suivront des travaux de mise en sécurité pyrotechnique à partir du 1er mars avant que les travaux de génie civil ne débutent réellement. Le projet, chiffré à 32 millions d’euros, est porté presque intégralement par le Département. La Région contribue à hauteur de 10 %. La mise en service est prévue pour 2027. Le projet est porté par le Département.\"}{\"Date\": \"mercredi 1 janvier 2025\", \"Territoire\": \"Boulogne-sur-Mer\", \"Sujet\": \"À quel point Planet’Aire est éco-responsable ?\", \"Média\": \"La Semaine dans le Boulonnais\", \"Article\": \"Le discours est alléchant. Dès l'entrée dans Planet'Aire sont affichés les points qui font que le complexe « préserve la planète ». À commencer par les 2 400 m² de panneaux photovoltaïques, tous fabriqués en France par la société Voltec Solar. Mais le complexe sera-t-il totalement autonome ? « Ce sera le cas l'après-midi lorsqu'il y aura du soleil » explique Thibault Catteau, grâce à une production de 280 000 kWh lorsque les conditions seront optimales. « Mais on n'a pas de date. On attend qu'Enedis raccorde. » Il faut également rappeler que le complexe s'est construit à partir d'un ancien bâtiment déjà présent, que des bornes de recharge seront installées pour les véhicules électriques et que le parking présente des surfaces perméables. Les cloisons pare-flammes qui n'étaient pas adaptées n'ont pas été jetées. « Elles serviront de paravent lorsque la terrasse sera prête. » Mais tout n'est pas « vert » et Planet'Aire n'échappe pas aux principaux exportateurs que sont les États-Unis et la Chine, bien que les Européens soient nombreux. « On a repoussé l'ouverture parce que les matériaux venus de Chine étaient bloqués dans le Canal de Suez et ont dû passer en-dessous de l'Afrique du Sud », explique Patrick Catteau, confirmant un bilan carbone plus lourd que prévu. « On achète ailleurs ce qu'on ne trouve pas en France » justifie son fils. D'autant plus que la taille du complexe et l'agrandissement prévu du parking encouragent à ne venir qu'en voiture. Mais sur ce sujet, Planet'Aire n'est pas le seul responsable. Le site bénéficie de 740 panneaux photovoltaïques. Photo: Photo d'illustration. Tous droits réservés La Semaine dans le Boulonnais\"}{\"Date\": \"mercredi 1 janvier 2025\", \"Territoire\": \"Pas-de-Calais\", \"Sujet\": \"Une métamorphose du port pour 2025\", \"Média\": \"Les Echos du Touquet\", \"Article\": \"Les travaux ont commencé au début du mois de décembre. La nouvelle promenade devrait voir le jour autour du mois de février. Les raccordements en électricité et en eau ont été réalisés en ce qui concerne l’espace de convivialité. La reconstruction de la promenade piétonne longeant le port de plaisance a commencé le 5 décembre. Le démontage complet de l’ancien platelage en bois et son garde-corps grâce à l’entreprise ID-verde. L’ensemble du volume de bois récupéré, environ 70 m3, a été évacué en déchetterie. La nouvelle promenade, prévue en béton désactivé, d’une surface de 365 m², sera réalisée courant janvier 2025. Le garde-corps, aussi, sera changé. L’entreprise Trancart vient de lancer la fabrication du futur garde-corps en acier thermo laqué blanc d’une longueur de 120 mètres. Il sera scellé sur la nouvelle promenade. Sa conception sera probablement terminée au début du mois de février. Le coût de cette opération de réaménagement est de 100 000 € à la charge du Département, maître d’ouvrage. Les travaux se sont arrêtés pendant les fêtes et reprendront le 6 janvier. Sur le site, les travaux d’alimentation électrique par Enedis et d’adduction d’eau potable par Veolia Eau ont été réalisés. Le démarrage des travaux de terrassement et le décapage du terrain est programmé pour la mi-janvier 2025. Le coût de ce chantier est de 1 800 000 €. Les travaux sur la promenade reprendront le 6 janvier 2025.\"}{\"Date\": \"mardi 31 décembre 2024\", \"Territoire\": \"Nord\", \"Sujet\": \"un incendie se déclare dans une maison squattée, rue Paul-Ronval\", \"Média\": \"La Voix du Nord\", \"Article\": \"La maison serait inoccupée depuis de nombreuses années mais serait fréquemment squattée. Mardi après-midi, les pompiers sont intervenus pour éteindre un feu qui s’était déclenché dans une maison de la rue Paul-Ronval, à Recquignies. Une bâtisse qui, depuis plusieurs années, ferait régulièrement l’objet de squats. Ce mardi, en milieu d’après-midi, il était environ 16 heures lorsque les sapeurs-pompiers ont été appelés pour intervenir à Recquignies. Un incendie s’est déclenché au sein d’une maison de la rue Paul-Ronval. Sur place, les soldats du feu ont été rejoints par des agents d’Enedis et par la gendarmerie, qui s’est occupée de la circulation le temps de l’intervention. Aucune voie n’a été bloquée, mais il fallait ralentir au niveau de la zone concernée. Des squats réguliers La maison frappée par l’incendie n’a pas subi de dégâts trop importants. Le bâtiment serait par ailleurs inoccupé depuis de nombreuses années. Ainsi aucune victime n’est à déplorer et aucune évacuation n’a été réalisée. Selon des riverains voisins, des squatteurs occuperaient régulièrement les lieux. Bien que personne n’ait été aperçu sur place à l’heure de départ du feu, un squat récent pourrait donc en être à l’origine. par M Br\"}{\"Date\": \"23 juin 2020\", \"Territoire\": \"Nord\", \"Sujet\": \"Chantier de logements intergénérationnels prévu en 2025\", \"Média\": \"La Voix du Nord\", \"Article\": \"L’année 2025 pourrait aussi rimer avec chantier selon Pierre-Henri Dudant, avec le début attendu de la construction par Partenord de 11 logements intergénérationnels sur le site de l’ancienne ferme Richez, démolie en 2020. par Helene Harbonnier\"}{\"Date\": \"lundi 30 décembre 2024\", \"Territoire\": \"Nord\", \"Sujet\": \"Électricité : le fonctionnement du forfait heures creuses et heures pleines sera revu d’ici à l’été 2025\", \"Média\": \"Nord Littoral\", \"Article\": \"Ce système, plus coûteux que le forfait de base, permet de bénéficier d’un prix de l’électricité avantageux pour les consommateurs qui programment leur électroménager pendant certaines heures de la journée. Les options heures creuses et heures pleines, qui existent depuis les années 1960, devraient « progressivement changer à partir de mi-2025 », a annoncé Emmanuelle Wargon, présidente de la Commission de régulation de l’énergie (CRE) sur franceinfo, expliquant que ces modifications avaient pour objectif de mieux coller aux « pics de consommation ». Ce système, plus coûteux que le forfait de base, permet de bénéficier d’un prix de l’électricité avantageux pour les consommateurs qui programment leur électroménager pendant certaines heures de la journée, tout en limitant les pics de consommation pour EDF. Pour que ce soit rentable, il faut décaler au moins 30 % de sa consommation sur cette période, précise Emmanuelle Wargon. La CRE « souhaite mieux positionner les heures creuses, car certaines sont mal situées, vers 7-8 heures ou vers 17 heures […] Il faut garantir que les heures creuses restent avantageuses » a ajouté Emmanuelle Wargon dans un entretien au Figaro. Parmi les projets de la CRE, figure notamment la création de créneaux d’heures creuses en après-midi, en particulier en été. Dans un premier temps, le nombre d’heures creuses resterait le même, soit huit par jour, selon la CRE. Mais une partie d’entre elles, entre deux et trois heures, serait déplacée l’après-midi. Cinq resteraient positionnées la nuit. Chaque consommateur sera contacté par son fournisseur d’énergie en temps voulu. Aujourd’hui, plus d’un tiers des consommateurs a souscrit à une offre heures creuses et heures pleines. Par Nord Littoral\"}{\"Date\": \"2024\", \"Territoire\": \"\", \"Sujet\": \"\", \"Média\": \"La Voix Du Nord\", \"Article\": \"par Ruben Muller Tous droits réservés La Voix Du Nord 2024 9d67696f83307907e02735e67403f104029Ab7C9e195Qa4473429 1b Parution : Quotidienne Diffusion : 195545 ex. (Diff. payée Fr.) - © ACPM DSH 2020-2021 Audience : 999000 lect. (LNM) - © ACPM One 2021 V4↑ 26.\"}{\"Date\": \"2024\", \"Territoire\": \"Nord\", \"Sujet\": \"Pas de sujet fourni\", \"Média\": \"Nord Eclair\", \"Article\": \"par Ruben Muller Tous droits réservés Nord Eclair 2024 c266f90b8400450b30a43af6300931eb024A20Cab1edQd9482e4b 83 Parution : Quotidienne Diffusion : 14026 ex. (Diff. payée Fr.) - © OJD DSH 2018-2019↑ 28.\"}{\"Date\": \"lundi 30 décembre 2024\", \"Territoire\": \"Nord\", \"Sujet\": \"Un élu suspecte une erreur et divise par deux la facture d’électricité de la patinoire de Hazebrouck\", \"Média\": \"Armentiérois express\", \"Article\": \"Dans de très nombreuses communes de Flandre, lors des conseils municipaux, une délibération est prise au sujet des factures d’énergie. Chaque commune adhérente du Territoire Énergie Flandre (TEF) peut faire appel à ce syndicat qui va missionner un cabinet d’études spécialisé pour contrôler des factures d’énergie de la commune. Si tout est normal, il n’y a rien à payer et si une économie est réalisée, le prestataire prend la moitié. C’est à l’occasion de cette délibération qu’Hervé Delva, conseiller délégué à la gestion et à l’amélioration du patrimoine immobilier pour la ville d’Hazebrouck, a raconté ce qui était arrivé en début d’année : « Nous avons reçu la facture d’EDF pour le village de Noël de l’année dernière, avec notamment la patinoire de glace, et quand j’ai vu le montant, j’ai poussé un cri ! » L’élu, qui connaît bien ce domaine, ne comprend pas comment cette installation peut être facturée 50 000 €. Il regarde alors avec les services puis reçoit l’aide du TEF : « En fait, il y avait des erreurs sur les imputations comptables avec les puissances souscrites, rapporte Hervé Delva. EDF a changé de système informatique pendant le Covid-19 et ça a provoqué des erreurs. » L’élu refait les calculs avec les données d’Enedis et tombe finalement à un montant de 22 000 €. « Ces factures sont vraiment très compliquées à lire, il faut avoir fait Science Po ! lance Jean-Luc Debert, maire d’Oudezeele et vice-président de TEF en charge de la communication. D’où ce service que l’on propose à toutes les communes qui devront avoir délibéré avant le 31 décembre pour en profiter. » Geoffroy de Saint Gilles\"}{\"Date\": \"lundi 15 avril 2024\", \"Territoire\": \"Nord-Pas-de-Calais\", \"Sujet\": \"Les roues en plastique rendent les câbles plus visibles pour les oiseaux\", \"Média\": \"La Voix du Nord\", \"Article\": \"Les roues en plastique rendent les câbles plus visibles pour les oiseaux. La plupart des chantiers, y compris ceux destinés à la protection des oiseaux, se font sous tension, pour ne pas pénaliser les clients. Dans le Nord et le Pas-de-Calais, 28 agents Enedis sont habilités à travailler sous tension. par Ruben Muller\"}{\"Date\": \"mardi 21 janvier 2025\", \"Territoire\": \"Pas de Calais\", \"Sujet\": \"Réaménagement de la nouvelle promenade et aménagement d'un espace public de convivialité\", \"Média\": \"Continue\", \"Article\": \"Sa conception sera probablement terminée au début du mois de février. Le coût de cette opération de réaménagement est de 100 000 € à la charge du Département, maître d’ouvrage. Les travaux se sont arrêtés pendant les fêtes et reprendront le 6 janvier. Qu’en est-il de l’aménagement d’un espace public de convivialité, auquel nous avions déjà consacré un dossier à la fin du mois d’octobre ? « Sur le site, les travaux d’alimentation électrique par Enedis et d’adduction d’eau potable par Veolia Eau ont été réalisés », explique Stéphane. « Le démarrage des travaux de terrassement et le décapage du terrain est programmé pour la mi-janvier 2025. » Le coût de ce chantier est de 1 800 000 € à la charge du Département, maître d’ouvrage.\"}{\"Date\": \"samedi 28 décembre 2024\", \"Territoire\": \"Nord\", \"Sujet\": \"Quatre-vingt-dix foyers sans électricité pendant plusieurs heures\", \"Média\": \"La Voix du Nord\", \"Article\": \"L’alimentation électrique de quelque quatre-vingt-dix foyers a été coupée pendant plusieurs heures, la nuit dernière à Sin-le-Noble, à la suite d’une chute de câbles électriques. Alertés vers 20 heures, les sapeurs-pompiers de la commune ont mis en place un périmètre de sécurité : ils ont placé leur camion pour interdire l’accès à la rue en sens unique et attendu les services de police et Enedis. Peu avant 22 heures, le renfort d’un camion nacelle a permis de mettre en sécurité le réseau électrique de la rue et de commencer les travaux de remise en état de la ligne touchée. Des travaux prévus pour durer une partie de la nuit. Conséquence de cette coupure d’électricité, quatre-vingt-dix foyers ont été privés de courant pendant plusieurs heures et une femme âgée a dû être prise en charge par les sapeurs-pompiers car l’autonomie de la batterie de son appareil respiratoire menaçait d’être insuffisante sans retour rapide du courant. Par précaution, elle a été transportée au centre hospitalier. Julien Carpentier, douai@lavoixdunord.fr\"}{\"Date\": \"2024\", \"Territoire\": \"Nord\", \"Sujet\": \"Pas de sujet spécifique\", \"Média\": \"La Voix Du Nord\", \"Article\": \"T ous droits réservés La Voix Du Nord 2024 016a29ca8c50750460d534a6a600f1f0033A6cCaa114Q5aa8a7ee b2 Parution : Quotidienne Diffusion : 195545 ex. (Diff. payée Fr.) - © ACPM DSH 2020-2021 Audience : 999000 lect. (LNM) - © ACPM One 2021 V4↑ 41.\"}{\"Date\": \"samedi 28 décembre 2024\", \"Territoire\": \"Nord\", \"Sujet\": \"Un élu suspecte une erreur et divise par deux la facture d’électricité de la patinoire\", \"Média\": \"La Voix Du Nord\", \"Article\": \"Dans de très nombreuses communes de Flandre, lors des conseils municipaux, une délibération est prise au sujet des factures d’énergie. Chaque commune adhérente du Territoire Énergie Flandre (TEF)* peut faire appel à ce syndicat qui va missionner un cabinet d’études spécialisé pour contrôler des factures d’énergie de la commune. Si tout est normal, il n’y a rien à payer et si une économie est réalisée, le prestataire prend la moitié. C’est à l’occasion de cette délibération qu’Hervé Delva, conseiller délégué à la gestion et à l’amélioration du patrimoine immobilier pour la ville d’Hazebrouck, a raconté ce qui était arrivé en début d’année : « Nous avons reçu la facture d’EDF pour le village de Noël de l’année dernière, avec notamment la patinoire de glace, et quand j’ai vu le montant, j’ai poussé un cri ! » L’élu, qui connaît bien ce domaine, ne comprend pas comment cette installation peut être facturée 50 000 €. Puissance souscrite Il regarde alors avec les services puis reçoit l’aide du TEF : « En fait, il y avait des erreurs sur les imputations comptables avec les puissances souscrites, rapporte Hervé Delva. EDF a changé de système informatique pendant le Covid-19 et ça a provoqué des erreurs. » L’élu refait les calculs avec les données d’Enedis et tombe finalement à un montant de 22 000 €. « Ces factures sont vraiment très compliquées à lire, il faut avoir fait Science Po ! lance Jean-Luc Debert, maire d’Oudezeele et vice-président de TEF en charge de la communication. D’où ce service que l’on propose à toutes les communes qui devront avoir délibéré avant le 31 décembre pour en profiter. » Geoffroy de Saint Gilles *Le Territoire d’Énergie Flandre s’étend d’Uxem à Laventie, soit toutes les communes faisant partie de Cœur de Flandre agglo et des communautés de communes de Flandre Lys et des Hauts de Flandre, soit 98 communes. ■\"}{\"Date\": \"vendredi 1 janvier 2021\", \"Territoire\": \"Nord\", \"Sujet\": \"Une coupure d'électricité à cause de câbles détachés\", \"Média\": \"La Voix du Nord\", \"Article\": \"Pour une raison encore à éclaircir, les câbles s’étaient détachés des poteaux qui jalonnent la rue. Les sapeurs-pompiers ont mis en place un périmètre de sécurité et placé leur camion pour interdire l’accès à la rue en sens unique et ont attendu les services de police et Enedis.\\n\\nUne femme hospitalisée\\n\\nPeu avant 22 heures, le renfort d’un camion nacelle a permis de mettre en sécurité le réseau électrique de la rue et de commencer les travaux de remise en état de la ligne touchée. Des travaux prévus pour durer une partie de la nuit.\\n\\nConséquence de cette coupure d’électricité, une femme âgée a dû être prise en charge par les sapeurs-pompiers car l’autonomie de la batterie de son appareil respiratoire menaçait d’être insuffisante sans rétablissement rapide du courant. Par mesure de précaution, elle a été transportée au centre hospitalier.\\n\\npar J C\\n\\n276e599d8460910620453f762a06114500aAb8C58155Q1a946a0\\ne07\\n\\nParution : Continue\\n\\n↑ 44.\"}{\"Date\": \"46\", \"Territoire\": \"Nord\", \"Sujet\": \"Les factures d'énergie compliquées à lire\", \"Média\": \"La Voix du Nord\", \"Article\": \"Ces factures sont vraiment très compliquées à lire, il faut avoir fait Science Po ! lance Jean-Luc Debert, maire d’Oudezeele et vice-président de TEF en charge de la communication. D’où ce service que l’on propose à toutes les communes qui devront avoir délibéré avant le 31 décembre pour en profiter. Le Territoire d’Énergie Flandre s’étend d’Uxem à Laventie soit toutes les communes faisant partie de Cœur de Flandre agglo et des communautés de communes de Flandre Lys et des Hauts de Flandre, soit 98 communes. Parution : Continue \\u2191\"}{\"Date\": \"lundi 18 novembre 2024\", \"Territoire\": \"Pas-de-Calais\", \"Sujet\": \"Une requalification de l’espace\", \"Média\": \"Continue\", \"Article\": \"Un espace qui va être entièrement remodelé pour en faire un lieu à vivre. C’est un chantier d’envergure qui est effectivement prévu à cet endroit. Prévus pour durer 9 mois en plein travail (soit un peu plus d’une année avec les interruptions liées aux vacances) les travaux devraient être finalisés courant 2026. Le chantier sera bien visible à la mi-janvier même si les premiers travaux ont débuté le 9 novembre dernier. Les éléments préfabriqués sont en cours d’assemblage, ENEDIS et VEOLIA ont déjà programmé leurs interventions. Et l’ensemble devrait attirer les Étaplois et les touristes. Des miroirs d’eau, des brumisateurs, une liaison entre la jetée-promenade en réfection et celle existante, un jardin public... les changements ne seront pas que cosmétiques sur cet espace à fort potentiel. par Dominique Douchin Clp\"}{\"Date\": \"vendredi 27 décembre 2024\", \"Territoire\": \"Nord\", \"Sujet\": \"Un couple meurt dans l’incendie de son mobil-home\", \"Média\": \"La Voix du Nord\", \"Article\": \"Un couple de septuagénaires est décédé dans l’incendie de son mobil-home, hier soir à Prémesques. Leurs trois enfants, adultes, ont été pris en charge par les secours pour soigner leurs blessures et être accompagnés psychologiquement. Prémesques. Malgré la nuit déjà tombée à cette heure-là, un gros panache de fumée était visible de loin, hier soir, vers 19 h, depuis les alentours de Prémesques. Au pied de l’incendie, une trentaine de sapeurs-pompiers venus de Lomme, Armentières et Hazebrouck aspergeaient un mobil-home installé le long de la rue du Retour, à quelques dizaines de mètres seulement de la mairie. Ils n’ont malheureusement rien pu faire pour sauver les occupants du logement, un couple de septuagénaires bien connu dans le village. Piégés par les flammes, M. et Mme Desbuquoy étaient morts à leur arrivée. Plusieurs équipages du SMUR de Lille ont également été dépêchés sur place, ainsi que les services d’urgence d’Enedis et de GrDF. « C’est une famille qui habite là depuis très longtemps, je les rencontrais très régulièrement, explique le maire de Prémesques, Yvan Hutchinson, très ému. Ils étaient parfaitement intégrés, investis dans le milieu associatif. C’est une famille en difficulté sociale, mais qui ne se plaignait jamais et qui ne demandait rien. On leur a plusieurs fois proposé de les reloger, mais ils étaient heureux de vivre là, avec leurs animaux. » Les pompiers et les médecins ont pris en charge le fils du couple, victime de nombreuses coupures. Il aurait tenté de sauver ses parents, piégés dans le brasier. Âgé d’une quarantaine d’années, il a été conduit au CHR. L’une de ses sœurs, qui vivait elle aussi avec ses parents, a également été transportée à l’hôpital. La deuxième fille du couple, qui n’habite pas là, est arrivée sur place un peu plus tard. Elle a été prise en charge psychologiquement. Vu les circonstances indéterminées du sinistre, l’enquête a été confiée à la police judiciaire de Lille. Yvan Hutchinson annonce, de son côté, qu’un arrêté de péril sera pris « pour empêcher les curieux mal intentionnés de pénétrer sur le site ». Il va, en outre, provoquer une réunion de crise ce matin en mairie pour trouver une solution de relogement aux deux enfants du couple qui vivaient sur place. « La difficulté pour une petite commune rurale comme la nôtre est que nous n’avons pas de logements disponibles en urgence, explique le maire. Le préfet a proposé son aide et on va appeler les bailleurs sociaux. La fille de ces gens est handicapée, on veut lui trouver un logement digne, avec son frère. Une chose est sûre, on ne laissera personne dehors. »\"}{\"Date\": \"2024\", \"Territoire\": \"Nord\", \"Sujet\": \"Aider Laura Petit et ses enfants\", \"Média\": \"Le Courrier de Fourmies\", \"Article\": \"Pour aider Laura Petit et ses enfants, vous pouvez faire des dons 1 Impasse de la Fontaine à Anor. Tous droits réservés 2024 Le Courrier de Fourmies e96019518020200fd0b83d96a50d5116085A2dC9815aQc60869156a Parution : Hebdomadaire Diffusion : 2642 ex. (Diff. payée Fr.) - © ACPM DSH 2020-2021↑ 52.\"}{\"Date\": \"lundi 15 février 2021\", \"Territoire\": \"Nord\", \"Sujet\": \"Incendie dans une maison rurale : une enquête confiée à la police judiciaire\", \"Média\": \"La Voix du Nord\", \"Article\": \"Les pompiers et les médecins ont pris en charge le fils du couple, victime de nombreuses coupures. Il aurait tenté de sauver ses parents piégés dans le brasier. Âgé d’une quarantaine d’années, il a été conduit au CHR. L’une de ses sœurs, qui vivaient elle aussi avec ses parents, a également été transportée à l’hôpital. La deuxième fille du couple, qui n’habite pas là, est arrivée sur place un peu plus tard. Elle a été prise en charge psychologiquement. L’enquête confiée à la police judiciaire Vu les circonstances indéterminées du sinistre, l’enquête a été confiée à la police judiciaire de Lille. Yvan Hutchinson annonce de son côté qu’un arrêté de péril sera pris « pour empêcher les curieux mal intentionnés de pénétrer sur le site ». Il va en outre provoquer une réunion de crise ce vendredi matin en mairie pour trouver une solution de relogement aux deux enfants du couple qui vivaient sur place. « La difficulté pour une petite commune rurale comme la nôtre est que nous n’avons pas de logements disponibles en urgence, explique le maire. Le préfet a proposé son aide et on va appeler les bailleurs sociaux. La fille de ces gens est handicapée, on veut lui trouver un logement digne, avec son frère. Une chose est sûre, on ne laissera personne dehors. »\"}{\"Date\": \"lundi 15 février 2021\", \"Territoire\": \"Nord\", \"Sujet\": \"Planet’Aire à Blaringhem: un complexe sportif qui fait polémique\", \"Média\": \"La Voix du Nord\", \"Article\": \"parce que les matériaux venus de Chine étaient bloqués dans le canal de Suez et ont dû passer au-dessous de l’Afrique du Sud », explique Patrick Catteau, confirmant un bilan carbone plus lourd que prévu. « On achète ailleurs ce qu’on ne trouve pas en France » justifie son fils. D’autant plus que la taille du complexe et l’agrandissement prévu du parking encouragent à ne venir qu’en voiture. Mais sur ce sujet, Planet’Aire n’est pas le seul responsable. À lire aussi Blaringhem: à quelques kilomètres de Planet’Aire, le complexe sportif Hercule & Hops déjà ouvert satisfait-il les premiers visiteurs?\"}')'\u001b[0m\n\u001b[1;37m                                                                                                                                                                                                                                                                                                                                                                                                                                                                                                                                                                                                                                                                                                                                                                                                                                                                                                                                                                                                                                                                                                                                                                                                                                                                                                                                                                                                                                                                                                                                                                                                                                                                                                                                                                                                                                                                                                                                                                                                                                                                                                                                                                                                                                                                                                                                                                                                                                                                                                                                                                                                                                                                                                                                                                                                                                                                                                                                                                                                                                                                                                                                                                                                                                                                                                                                                                                                                                                                                                                                                                                                                                                                                                                                                                                                                                                                                                                                                                                                                                                                                                                                                                                                                                                                                                                                                                                                                                                                                                                                                                                                                                                                                                                                                                                                                                                                                                                                                                                                                                                                                                                                                                                                                                                                                                                                                                                                                                                                                                                                                                                                                                                                                                                                                                                                                                                                                                                                                                                                                                                                                                                                                                                                                                                                                                                                                                                                                                                                                                                                                                                                                                                                                                                                                                                                                                                                                                                                                                                                                                                                                                                                                                                                                                                                                                                                                                                                                                                                                                                                                                                                                                                                                                                                                                                                                                                                                                                                                                                                                                                                                                                                                                                                                                                                                                                                                                                                                                                                                                                                                                                                                                                                                                                                                                                                                                                                                                                                                                                                                                                                                                                                                                                                                                                                                                                                                                                                                                                                                                                                                                                                                                                                                                                                                                                                                                                                                                                                                                                                                                                                                                                                                                                                                                                                                                                                                                                                                                                                                                                                                                                                                                                                                                                                                                                                                                                                                                                                                                                                                                                                                                                                                                                                                                                                                                                                                                                                                                                                                                                                                                                                                                                                                                                                                                                                                                                                                                                                                                                                                                                                                            ^\u001b[0m\n\u001b[1;31mSyntaxError\u001b[0m\u001b[1;31m:\u001b[0m invalid character '’' (U+2019)\n"
     ]
    }
   ],
   "source": [
    "len('{\"Date\": \"jeudi 2 janvier 2025\", \"Territoire\": \"Nord\", \"Sujet\": \"Un incendie dans une maison squattée\", \"Média\": \"La Voix Du Nord\", \"Article\": \"Recquignies. Ce mardi, en milieu d’après-midi, il était environ 16 heures lorsque les sapeurs-pompiers ont été appelés pour intervenir à Recquignies. Un incendie s’est déclenché au sein d’une maison de la rue Paul-Ronval. Sur place, les soldats du feu ont été rejoints par des agents d’Enedis et par la gendarmerie, qui s’est occupée de la circulation le temps de l’intervention. Aucune voie n’a été bloquée, mais il fallait ralentir au niveau de la zone concernée.\\n\\nDes squats réguliers\\nLa maison frappée par l’incendie n’a pas subi de dégâts trop importants. Le bâtiment serait par ailleurs inoccupé depuis de nombreuses années. Ainsi aucune victime n’est à déplorer et aucune évacuation n’a été réalisée. Selon des riverains voisins, des squatteurs occuperaient régulièrement les lieux. Bien que personne n’ait été aperçu sur place à l’heure de départ du feu, un squat récent pourrait donc en être à l’origine. M. Br.\"}{\"Date\": \"jeudi 2 janvier 2025\", \"Territoire\": \"Nord\", \"Sujet\": \"Coupure de courant pour travaux à Aniche\", \"Média\": \"La Voix Du Nord\", \"Article\": \"Afin d’améliorer la qualité de la distribution électrique, des travaux vont être réalisés par ENEDIS dans les rues Élie-Fendali, voie Sentron, chemin de Villers Campeau. Jeudi 16 janvier, de 8 h à 12 h. Tél. : 09 72 67 50 59.\"}, {\"Date\": \"jeudi 2 janvier 2025\", \"Territoire\": \"Nord\", \"Sujet\": \"Cérémonie des vœux du maire et des membres du Conseil municipal à Bugnicourt\", \"Média\": \"La Voix Du Nord\", \"Article\": \"Dimanche, à 11 h, salle des fêtes, rue de l’Égalité.\"}, {\"Date\": \"jeudi 2 janvier 2025\", \"Territoire\": \"Nord\", \"Sujet\": \"Quatre-vingtième anniversaire de la Libération à Douai\", \"Média\": \"La Voix Du Nord\", \"Article\": \"Tout document relatif à ce moment de liesse viendra compléter les fonds communaux, déjà riches et permettra d’alimenter et d’écrire l‘histoire collective. Du lundi au vendredi, de 13 h 30 à 17 h, Archives municipales, 45, rue de l’Université. archives@ville-douai.fr, tél. : 03 27 93 58 47.\"}, {\"Date\": \"jeudi 2 janvier 2025\", \"Territoire\": \"Nord\", \"Sujet\": \"Fermeture des piscines à Douai\", \"Média\": \"La Voix Du Nord\", \"Article\": \"Pour la piscine des Glacis, jusqu’au dimanche 12 janvier et Beau Soleil jusqu’à ce dimanche. Piscine Tournesol Beausoleil, rue Charles-Bourseul. Tél. : 03 27 87 49 21, tél. : 03 27 97 30 28.\"}, {\"Date\": \"jeudi 2 janvier 2025\", \"Territoire\": \"Nord\", \"Sujet\": \"Visite commentée du Sénat à Douai\", \"Média\": \"La Voix Du Nord\", \"Article\": \"Avec temps libre au quartier de Notre-Dame. Se rapprocher de l’accueil de la MJC pour les inscriptions. Photocopie de carte d’identité ou passeport obligatoire. Vendredi 14 mars, de 6 h à 18 h, MJC, 215, rue d’Arleux. 35 € et 45 € non-adhérent. Réservation avant le mercredi 15 janvier : tél. : 03 27 71 18 18, mjc-douai.fr\"}, {\"Date\": \"jeudi 2 janvier 2025\", \"Territoire\": \"Nord\", \"Sujet\": \"Permanence de l’ANGDM à Douai\", \"Média\": \"La Voix Du Nord\", \"Article\": \"Ouvert à tous. Chaque troisième jeudi du mois. Jeudi 16 janvier, de 9 h à 10 h 30, France Services, 9, rue de Fontainebleau.\"}, {\"Date\": \"jeudi 2 janvier 2025\", \"Territoire\": \"Nord\", \"Sujet\": \"Fermeture de la piscine municipale à Somain\", \"Média\": \"La Voix Du Nord\", \"Article\": \"Pour maintenance technique annuelle. Jusqu’à dimanche.\"}]{\"Date\": \"jeudi 2 janvier 2025\", \"Territoire\": \"Nord\", \"Sujet\": \"Des hélicos à Noyelles\", \"Média\": \"La Voix Du Nord\", \"Article\": \"Si, depuis début décembre, vous entendez bourdonner des hélicoptères au-dessus de vos têtes lorsque vous passez par Noyelles-lès-Seclin, c’est normal. Dans le cadre de son programme d’entretien des ouvrages électriques, le distributeur d’énergie électrique Enedis mène actuellement une visite aérienne préventive d’un tiers environ de son réseau 20 000 volts, afin d’améliorer la qualité de la distribution. C’est une opération annuelle. Il y aura un survol, à très basse hauteur, des lignes surplombant Noyelles jusqu’au 31 janvier.\"}{\"Date\": \"jeudi 2 janvier 2025\", \"Territoire\": \"Pas de Calais\", \"Sujet\": \"Vents violents : un tiers de la commune privée d’électricité\", \"Média\": \"La Voix du Nord\", \"Article\": \"Les premiers foyers ont été touchés hier midi. Puis, dans le courant de l’après-midi, c’est « un tiers de la commune » qui s’est retrouvée privée d’électricité, d’après le maire d’Andres, Allan Turpin. Les rues Lannoy, du Milieu, des Écoles, de l’Église, du Moulin, la route de Balinghem… « Un secteur identique à la problématique qu’on avait eue le jour de l’incendie de la ferme », le 9 décembre, qui avait provoqué une coupure de courant « une journée complète ». Les pannes seraient « récurrentes » pour ces foyers d’après le maire, qui cite encore « une panne de trois jours rue de la Riviérette » fin 2020. D’après l’astreinte d’Enedis, cet incident est lié à un câble endommagé par la tempête qui a balayé le littoral hier. « Une quarantaine de clients ont eu l’électricité coupée. Nos équipes ont été à pied d’œuvre pour le rétablir, la situation est sous contrôle », assure Enedis. Le nombre de foyers touchés serait plus important d’après le maire, qui dénombre « 70 maisons rue du Milieu, une trentaine rue des Écoles, une quarantaine rue Lannoy, une vingtaine chemin de la Motte et du Moulin… » Peu avant 19 heures, le courant était revenu. « C’est une intervention courante, poursuit Enedis. Nous n’avons pas eu d’autre intervention dans le secteur ce mercredi, c’est relativement calme pour un avis de tempête. » À noter que les pompiers de Calais sont intervenus à Jardinland à Calais hier matin pour sécuriser les abords du magasin alors qu’une partie du toit s’était envolée. Jean-Philippe Delattre ■\"}{\"Date\": \"jeudi 2 janvier 2025\", \"Territoire\": \"Nord\", \"Sujet\": \"Grosse panne à Andres\", \"Média\": \"Nord Littoral\", \"Article\": \"Hier, à partir de midi, une coupure de courant a perturbé une partie de la commune d’Andres, privant d’électricité plusieurs dizaines d’habitations. Les zones touchées incluent la route de Balinghem, la rue Lannoy, la rue du Milieu, la rue de l’Église, la rue du Moulin, la rue des Écoles et l’impasse de la Motte. L’incident, qui tombe en plein jour de l’An, a suscité l’intervention d’Enedis. Les équipes techniques étaient sur place l’après-midi pour diagnostiquer et résoudre la panne. La situation devait être rétablie aux environs de 19 h. La panne n’a pas manqué de provoquer des réactions, notamment celle du maire de la commune, Allan Turpin, qui a exprimé son mécontentement sur Facebook : « Ras le bol des pannes d’électricité ! » Les causes exactes de la coupure restent à déterminer. La rue Lannoy est concernée.\"}{\"Date\": \"jeudi 2 janvier 2025\", \"Territoire\": \"Nord\", \"Sujet\": \"Après onze mois, les travaux de voirie sont enfin terminés\", \"Média\": \"La Voix du Nord\", \"Article\": \"Depuis début décembre, il est redevenu possible de traverser en voiture Bévil‐ lers. La conclusion d’importants travaux menés durant onze mois, sur deux fronts, et qui auront coûté un peu moins cher que prévu d’après le maire. BÉVILLERS. L’année 2024 a rimé avec travaux à Bévillers. À compter de la fin janvier, deux chantiers ont été menés en parallèle : l’enfouissement des réseaux (fibre, éclairage public, réseau d’électricité pu‐ blic) dans les rues du Calvaire, de l’Avenir, du Préau, de l’Arbre et du Jeune Bois, assu‐ ré par la commune ; et le passage souterrain de câbles haute tension reliant le poste source en cours d’aménagement aux parcs éo‐ liens du secteur. Onze mois plus tard, les derniers engins de chantier ont déserté les rues, le 10 dé‐ cembre, et la circulation a été rétablie – pendant une bonnepartie de l’année, un itinéraire de déviation a été maintenu, ajoutant 3 km environ à un tra‐ jet débuté depuis Caudry. Un coût réduit Pierre-Henri Dudant, maire de Bévillers, se réjouit que les tra‐ vaux soient terminés mais aussi que le coût en ait été réduit pour la commune. La princi‐ pale raison tient à la réfection des bordures de trottoir, dont le linéaire estimé a été ramené de 2,7 à 2,1 km : la facture a suivi, passant de 282 000 € TTC à 211 000 € TTC. Les discussions, indique le maire, se poursuivent avec Enedis au su‐ jet de la convention de coordination de travaux qui avait été signée et devait permettre à l’opérateur et à la commune de se partager le coût de la réfec‐ tion de voirie en lien avec les deux chantiers. L’État, le Département, et la communauté d’agglomération du Caudrésis-Catésis (CA2C) ont subventionné le chantier. L’année 2025 pourrait aussi ri‐ mer avec chantier, selon Pierre-Henri Dudant, avec le début attendu de la construc‐ tion par Partenord de 11 logements intergénérationnels sur le site de l’ancienne ferme Ri‐ chez, démolie en 2020. ■\"}{\"Date\": \"mercredi 1 janvier 2025\", \"Territoire\": \"Pas-de-Calais\", \"Sujet\": \"Incendie d’origine électrique dans une entreprise de Vendin-lès-Béthune le premier jour de l’année\", \"Média\": \"La Voix du Nord\", \"Article\": \"Le bâtiment de 300 m2 était très enfumé quand les pompiers sont intervenus rue Pierre-Mendès-France à Vendin-lès-Béthune, en ce premier jour de l’année, vers 20 h pour un incendie qui s’était déclaré dans une entreprise. Appelés vers 20 heures, ce mercredi, pour un incendie au sein de l’entreprise BCS – Bien chez soi, rue Pierre-Mendès-France à Vendin-lès-Béthune, les pompiers béthunois et nœuxois ont, une fois entrés dans le bâtiment, trouvé un local de 300 m² très enfumé. Ils ont rapidement trouvé l’origine de l’incendie qui était parti du tableau électrique. Une fois l’incendie éteint, sans causer d’importants dégâts, les pompiers ont ventilé le bâtiment pendant que le technicien d’Enedis coupait l’alimentation électrique et mettait l’installation en sécurité. Cet incendie n’impactera pas l’entreprise vendinoise qui a récemment cessé son activité.\"}{\"Date\": \"mercredi 2 février 2022\", \"Territoire\": \"Pas-de-Calais\", \"Sujet\": \"Intervention des pompiers à Jardiland à Calais\", \"Média\": \"La Voix du Nord\", \"Article\": \"À noter que les pompiers de Calais sont intervenus à Jardiland à Calais ce mercredi matin pour sécuriser les abords du magasin alors qu’une partie du toit s’était envolée. Consultez l’actualité en vidéo par Jean-Philippe Delattre.\"}{\"Date\": \"mercredi 1 janvier 2025\", \"Territoire\": \"Nord\", \"Sujet\": \"Des dizaines d’habitations privées d’électricité le jour de l’An à Andres\", \"Média\": \"Nord Littoral\", \"Article\": \"Une coupure de courant survenue à Andres ce jour de l’An touche plusieurs rues depuis midi, mobilisant Enedis qui prévoit un rétablissement à 19h. Depuis 12h ce 1er janvier, une coupure de courant perturbe une partie de la commune d’Andres, privant d’électricité plusieurs dizaines d’habitations. Les zones touchées incluent la route de Balinghem, la rue Lannoy, la rue du Milieu, la rue de l’Église, la rue du Moulin, la rue des Écoles et l’impasse de la Motte. L’incident, qui tombe en plein jour de l’An, a suscité l’intervention d’Enedis. Les équipes techniques étaient sur place l’après-midi pour diagnostiquer et résoudre la panne. La situation devait être rétablie aux environs de 19h. La panne n’a pas manqué de provoquer des réactions, notamment celle du maire de la commune, Allan Turpin, qui a exprimé son mécontentement sur Facebook : « Ras le bol des pannes d’électricité ! » Les causes exactes de la coupure restent à déterminer.\"}{\"Date\": \"mercredi 1 janvier 2025\", \"Territoire\": \"Nord\", \"Sujet\": \"Les travaux du contournement de la RD 642 prévus à partir du mois de mai\", \"Média\": \"L'Indicateur des Flandres\", \"Article\": \"C’est un projet qui est dans les cartons depuis des décennies. 2025 devrait voir le démarrage des travaux du contournement du tronçon de la RD 642 situé entre Strazeele et l’autoroute A25 à Méteren. L’idée est de créer une 2x2 voies sur 3,5 kilomètres au sud de la route actuelle. Le futur contournement traversera essentiellement la commune de Merris. Un projet qui n’est pas sans créer de la contestation : un collectif baptisé RD 642 grand projet inutile s’est récemment formé. Annoncés initialement pour janvier, les travaux devraient commencer en mai. Mais les choses s’activent d’ores et déjà autour de l’axe. En décembre, des travaux de dévoiement Enedis ont été réalisés, occasionnant d’importants bouchons. Des travaux de déboisement sont prévus en février, avant la période de nidification. Suivront des travaux de mise en sécurité pyrotechnique à partir du 1er mars avant que les travaux de génie civil ne débutent réellement. Le projet, chiffré à 32 millions d’euros, est porté presque intégralement par le Département. La Région contribue à hauteur de 10 %. La mise en service est prévue pour 2027. Le projet est porté par le Département.\"}{\"Date\": \"mercredi 1 janvier 2025\", \"Territoire\": \"Boulogne-sur-Mer\", \"Sujet\": \"À quel point Planet’Aire est éco-responsable ?\", \"Média\": \"La Semaine dans le Boulonnais\", \"Article\": \"Le discours est alléchant. Dès l'entrée dans Planet'Aire sont affichés les points qui font que le complexe « préserve la planète ». À commencer par les 2 400 m² de panneaux photovoltaïques, tous fabriqués en France par la société Voltec Solar. Mais le complexe sera-t-il totalement autonome ? « Ce sera le cas l'après-midi lorsqu'il y aura du soleil » explique Thibault Catteau, grâce à une production de 280 000 kWh lorsque les conditions seront optimales. « Mais on n'a pas de date. On attend qu'Enedis raccorde. » Il faut également rappeler que le complexe s'est construit à partir d'un ancien bâtiment déjà présent, que des bornes de recharge seront installées pour les véhicules électriques et que le parking présente des surfaces perméables. Les cloisons pare-flammes qui n'étaient pas adaptées n'ont pas été jetées. « Elles serviront de paravent lorsque la terrasse sera prête. » Mais tout n'est pas « vert » et Planet'Aire n'échappe pas aux principaux exportateurs que sont les États-Unis et la Chine, bien que les Européens soient nombreux. « On a repoussé l'ouverture parce que les matériaux venus de Chine étaient bloqués dans le Canal de Suez et ont dû passer en-dessous de l'Afrique du Sud », explique Patrick Catteau, confirmant un bilan carbone plus lourd que prévu. « On achète ailleurs ce qu'on ne trouve pas en France » justifie son fils. D'autant plus que la taille du complexe et l'agrandissement prévu du parking encouragent à ne venir qu'en voiture. Mais sur ce sujet, Planet'Aire n'est pas le seul responsable. Le site bénéficie de 740 panneaux photovoltaïques. Photo: Photo d'illustration. Tous droits réservés La Semaine dans le Boulonnais\"}{\"Date\": \"mercredi 1 janvier 2025\", \"Territoire\": \"Pas-de-Calais\", \"Sujet\": \"Une métamorphose du port pour 2025\", \"Média\": \"Les Echos du Touquet\", \"Article\": \"Les travaux ont commencé au début du mois de décembre. La nouvelle promenade devrait voir le jour autour du mois de février. Les raccordements en électricité et en eau ont été réalisés en ce qui concerne l’espace de convivialité. La reconstruction de la promenade piétonne longeant le port de plaisance a commencé le 5 décembre. Le démontage complet de l’ancien platelage en bois et son garde-corps grâce à l’entreprise ID-verde. L’ensemble du volume de bois récupéré, environ 70 m3, a été évacué en déchetterie. La nouvelle promenade, prévue en béton désactivé, d’une surface de 365 m², sera réalisée courant janvier 2025. Le garde-corps, aussi, sera changé. L’entreprise Trancart vient de lancer la fabrication du futur garde-corps en acier thermo laqué blanc d’une longueur de 120 mètres. Il sera scellé sur la nouvelle promenade. Sa conception sera probablement terminée au début du mois de février. Le coût de cette opération de réaménagement est de 100 000 € à la charge du Département, maître d’ouvrage. Les travaux se sont arrêtés pendant les fêtes et reprendront le 6 janvier. Sur le site, les travaux d’alimentation électrique par Enedis et d’adduction d’eau potable par Veolia Eau ont été réalisés. Le démarrage des travaux de terrassement et le décapage du terrain est programmé pour la mi-janvier 2025. Le coût de ce chantier est de 1 800 000 €. Les travaux sur la promenade reprendront le 6 janvier 2025.\"}{\"Date\": \"mardi 31 décembre 2024\", \"Territoire\": \"Nord\", \"Sujet\": \"un incendie se déclare dans une maison squattée, rue Paul-Ronval\", \"Média\": \"La Voix du Nord\", \"Article\": \"La maison serait inoccupée depuis de nombreuses années mais serait fréquemment squattée. Mardi après-midi, les pompiers sont intervenus pour éteindre un feu qui s’était déclenché dans une maison de la rue Paul-Ronval, à Recquignies. Une bâtisse qui, depuis plusieurs années, ferait régulièrement l’objet de squats. Ce mardi, en milieu d’après-midi, il était environ 16 heures lorsque les sapeurs-pompiers ont été appelés pour intervenir à Recquignies. Un incendie s’est déclenché au sein d’une maison de la rue Paul-Ronval. Sur place, les soldats du feu ont été rejoints par des agents d’Enedis et par la gendarmerie, qui s’est occupée de la circulation le temps de l’intervention. Aucune voie n’a été bloquée, mais il fallait ralentir au niveau de la zone concernée. Des squats réguliers La maison frappée par l’incendie n’a pas subi de dégâts trop importants. Le bâtiment serait par ailleurs inoccupé depuis de nombreuses années. Ainsi aucune victime n’est à déplorer et aucune évacuation n’a été réalisée. Selon des riverains voisins, des squatteurs occuperaient régulièrement les lieux. Bien que personne n’ait été aperçu sur place à l’heure de départ du feu, un squat récent pourrait donc en être à l’origine. par M Br\"}{\"Date\": \"23 juin 2020\", \"Territoire\": \"Nord\", \"Sujet\": \"Chantier de logements intergénérationnels prévu en 2025\", \"Média\": \"La Voix du Nord\", \"Article\": \"L’année 2025 pourrait aussi rimer avec chantier selon Pierre-Henri Dudant, avec le début attendu de la construction par Partenord de 11 logements intergénérationnels sur le site de l’ancienne ferme Richez, démolie en 2020. par Helene Harbonnier\"}{\"Date\": \"lundi 30 décembre 2024\", \"Territoire\": \"Nord\", \"Sujet\": \"Électricité : le fonctionnement du forfait heures creuses et heures pleines sera revu d’ici à l’été 2025\", \"Média\": \"Nord Littoral\", \"Article\": \"Ce système, plus coûteux que le forfait de base, permet de bénéficier d’un prix de l’électricité avantageux pour les consommateurs qui programment leur électroménager pendant certaines heures de la journée. Les options heures creuses et heures pleines, qui existent depuis les années 1960, devraient « progressivement changer à partir de mi-2025 », a annoncé Emmanuelle Wargon, présidente de la Commission de régulation de l’énergie (CRE) sur franceinfo, expliquant que ces modifications avaient pour objectif de mieux coller aux « pics de consommation ». Ce système, plus coûteux que le forfait de base, permet de bénéficier d’un prix de l’électricité avantageux pour les consommateurs qui programment leur électroménager pendant certaines heures de la journée, tout en limitant les pics de consommation pour EDF. Pour que ce soit rentable, il faut décaler au moins 30 % de sa consommation sur cette période, précise Emmanuelle Wargon. La CRE « souhaite mieux positionner les heures creuses, car certaines sont mal situées, vers 7-8 heures ou vers 17 heures […] Il faut garantir que les heures creuses restent avantageuses » a ajouté Emmanuelle Wargon dans un entretien au Figaro. Parmi les projets de la CRE, figure notamment la création de créneaux d’heures creuses en après-midi, en particulier en été. Dans un premier temps, le nombre d’heures creuses resterait le même, soit huit par jour, selon la CRE. Mais une partie d’entre elles, entre deux et trois heures, serait déplacée l’après-midi. Cinq resteraient positionnées la nuit. Chaque consommateur sera contacté par son fournisseur d’énergie en temps voulu. Aujourd’hui, plus d’un tiers des consommateurs a souscrit à une offre heures creuses et heures pleines. Par Nord Littoral\"}{\"Date\": \"2024\", \"Territoire\": \"\", \"Sujet\": \"\", \"Média\": \"La Voix Du Nord\", \"Article\": \"par Ruben Muller Tous droits réservés La Voix Du Nord 2024 9d67696f83307907e02735e67403f104029Ab7C9e195Qa4473429 1b Parution : Quotidienne Diffusion : 195545 ex. (Diff. payée Fr.) - © ACPM DSH 2020-2021 Audience : 999000 lect. (LNM) - © ACPM One 2021 V4↑ 26.\"}{\"Date\": \"2024\", \"Territoire\": \"Nord\", \"Sujet\": \"Pas de sujet fourni\", \"Média\": \"Nord Eclair\", \"Article\": \"par Ruben Muller Tous droits réservés Nord Eclair 2024 c266f90b8400450b30a43af6300931eb024A20Cab1edQd9482e4b 83 Parution : Quotidienne Diffusion : 14026 ex. (Diff. payée Fr.) - © OJD DSH 2018-2019↑ 28.\"}{\"Date\": \"lundi 30 décembre 2024\", \"Territoire\": \"Nord\", \"Sujet\": \"Un élu suspecte une erreur et divise par deux la facture d’électricité de la patinoire de Hazebrouck\", \"Média\": \"Armentiérois express\", \"Article\": \"Dans de très nombreuses communes de Flandre, lors des conseils municipaux, une délibération est prise au sujet des factures d’énergie. Chaque commune adhérente du Territoire Énergie Flandre (TEF) peut faire appel à ce syndicat qui va missionner un cabinet d’études spécialisé pour contrôler des factures d’énergie de la commune. Si tout est normal, il n’y a rien à payer et si une économie est réalisée, le prestataire prend la moitié. C’est à l’occasion de cette délibération qu’Hervé Delva, conseiller délégué à la gestion et à l’amélioration du patrimoine immobilier pour la ville d’Hazebrouck, a raconté ce qui était arrivé en début d’année : « Nous avons reçu la facture d’EDF pour le village de Noël de l’année dernière, avec notamment la patinoire de glace, et quand j’ai vu le montant, j’ai poussé un cri ! » L’élu, qui connaît bien ce domaine, ne comprend pas comment cette installation peut être facturée 50 000 €. Il regarde alors avec les services puis reçoit l’aide du TEF : « En fait, il y avait des erreurs sur les imputations comptables avec les puissances souscrites, rapporte Hervé Delva. EDF a changé de système informatique pendant le Covid-19 et ça a provoqué des erreurs. » L’élu refait les calculs avec les données d’Enedis et tombe finalement à un montant de 22 000 €. « Ces factures sont vraiment très compliquées à lire, il faut avoir fait Science Po ! lance Jean-Luc Debert, maire d’Oudezeele et vice-président de TEF en charge de la communication. D’où ce service que l’on propose à toutes les communes qui devront avoir délibéré avant le 31 décembre pour en profiter. » Geoffroy de Saint Gilles\"}{\"Date\": \"lundi 15 avril 2024\", \"Territoire\": \"Nord-Pas-de-Calais\", \"Sujet\": \"Les roues en plastique rendent les câbles plus visibles pour les oiseaux\", \"Média\": \"La Voix du Nord\", \"Article\": \"Les roues en plastique rendent les câbles plus visibles pour les oiseaux. La plupart des chantiers, y compris ceux destinés à la protection des oiseaux, se font sous tension, pour ne pas pénaliser les clients. Dans le Nord et le Pas-de-Calais, 28 agents Enedis sont habilités à travailler sous tension. par Ruben Muller\"}{\"Date\": \"mardi 21 janvier 2025\", \"Territoire\": \"Pas de Calais\", \"Sujet\": \"Réaménagement de la nouvelle promenade et aménagement d'un espace public de convivialité\", \"Média\": \"Continue\", \"Article\": \"Sa conception sera probablement terminée au début du mois de février. Le coût de cette opération de réaménagement est de 100 000 € à la charge du Département, maître d’ouvrage. Les travaux se sont arrêtés pendant les fêtes et reprendront le 6 janvier. Qu’en est-il de l’aménagement d’un espace public de convivialité, auquel nous avions déjà consacré un dossier à la fin du mois d’octobre ? « Sur le site, les travaux d’alimentation électrique par Enedis et d’adduction d’eau potable par Veolia Eau ont été réalisés », explique Stéphane. « Le démarrage des travaux de terrassement et le décapage du terrain est programmé pour la mi-janvier 2025. » Le coût de ce chantier est de 1 800 000 € à la charge du Département, maître d’ouvrage.\"}{\"Date\": \"samedi 28 décembre 2024\", \"Territoire\": \"Nord\", \"Sujet\": \"Quatre-vingt-dix foyers sans électricité pendant plusieurs heures\", \"Média\": \"La Voix du Nord\", \"Article\": \"L’alimentation électrique de quelque quatre-vingt-dix foyers a été coupée pendant plusieurs heures, la nuit dernière à Sin-le-Noble, à la suite d’une chute de câbles électriques. Alertés vers 20 heures, les sapeurs-pompiers de la commune ont mis en place un périmètre de sécurité : ils ont placé leur camion pour interdire l’accès à la rue en sens unique et attendu les services de police et Enedis. Peu avant 22 heures, le renfort d’un camion nacelle a permis de mettre en sécurité le réseau électrique de la rue et de commencer les travaux de remise en état de la ligne touchée. Des travaux prévus pour durer une partie de la nuit. Conséquence de cette coupure d’électricité, quatre-vingt-dix foyers ont été privés de courant pendant plusieurs heures et une femme âgée a dû être prise en charge par les sapeurs-pompiers car l’autonomie de la batterie de son appareil respiratoire menaçait d’être insuffisante sans retour rapide du courant. Par précaution, elle a été transportée au centre hospitalier. Julien Carpentier, douai@lavoixdunord.fr\"}{\"Date\": \"2024\", \"Territoire\": \"Nord\", \"Sujet\": \"Pas de sujet spécifique\", \"Média\": \"La Voix Du Nord\", \"Article\": \"T ous droits réservés La Voix Du Nord 2024 016a29ca8c50750460d534a6a600f1f0033A6cCaa114Q5aa8a7ee b2 Parution : Quotidienne Diffusion : 195545 ex. (Diff. payée Fr.) - © ACPM DSH 2020-2021 Audience : 999000 lect. (LNM) - © ACPM One 2021 V4↑ 41.\"}{\"Date\": \"samedi 28 décembre 2024\", \"Territoire\": \"Nord\", \"Sujet\": \"Un élu suspecte une erreur et divise par deux la facture d’électricité de la patinoire\", \"Média\": \"La Voix Du Nord\", \"Article\": \"Dans de très nombreuses communes de Flandre, lors des conseils municipaux, une délibération est prise au sujet des factures d’énergie. Chaque commune adhérente du Territoire Énergie Flandre (TEF)* peut faire appel à ce syndicat qui va missionner un cabinet d’études spécialisé pour contrôler des factures d’énergie de la commune. Si tout est normal, il n’y a rien à payer et si une économie est réalisée, le prestataire prend la moitié. C’est à l’occasion de cette délibération qu’Hervé Delva, conseiller délégué à la gestion et à l’amélioration du patrimoine immobilier pour la ville d’Hazebrouck, a raconté ce qui était arrivé en début d’année : « Nous avons reçu la facture d’EDF pour le village de Noël de l’année dernière, avec notamment la patinoire de glace, et quand j’ai vu le montant, j’ai poussé un cri ! » L’élu, qui connaît bien ce domaine, ne comprend pas comment cette installation peut être facturée 50 000 €. Puissance souscrite Il regarde alors avec les services puis reçoit l’aide du TEF : « En fait, il y avait des erreurs sur les imputations comptables avec les puissances souscrites, rapporte Hervé Delva. EDF a changé de système informatique pendant le Covid-19 et ça a provoqué des erreurs. » L’élu refait les calculs avec les données d’Enedis et tombe finalement à un montant de 22 000 €. « Ces factures sont vraiment très compliquées à lire, il faut avoir fait Science Po ! lance Jean-Luc Debert, maire d’Oudezeele et vice-président de TEF en charge de la communication. D’où ce service que l’on propose à toutes les communes qui devront avoir délibéré avant le 31 décembre pour en profiter. » Geoffroy de Saint Gilles *Le Territoire d’Énergie Flandre s’étend d’Uxem à Laventie, soit toutes les communes faisant partie de Cœur de Flandre agglo et des communautés de communes de Flandre Lys et des Hauts de Flandre, soit 98 communes. ■\"}{\"Date\": \"vendredi 1 janvier 2021\", \"Territoire\": \"Nord\", \"Sujet\": \"Une coupure d'électricité à cause de câbles détachés\", \"Média\": \"La Voix du Nord\", \"Article\": \"Pour une raison encore à éclaircir, les câbles s’étaient détachés des poteaux qui jalonnent la rue. Les sapeurs-pompiers ont mis en place un périmètre de sécurité et placé leur camion pour interdire l’accès à la rue en sens unique et ont attendu les services de police et Enedis.\\n\\nUne femme hospitalisée\\n\\nPeu avant 22 heures, le renfort d’un camion nacelle a permis de mettre en sécurité le réseau électrique de la rue et de commencer les travaux de remise en état de la ligne touchée. Des travaux prévus pour durer une partie de la nuit.\\n\\nConséquence de cette coupure d’électricité, une femme âgée a dû être prise en charge par les sapeurs-pompiers car l’autonomie de la batterie de son appareil respiratoire menaçait d’être insuffisante sans rétablissement rapide du courant. Par mesure de précaution, elle a été transportée au centre hospitalier.\\n\\npar J C\\n\\n276e599d8460910620453f762a06114500aAb8C58155Q1a946a0\\ne07\\n\\nParution : Continue\\n\\n↑ 44.\"}{\"Date\": \"46\", \"Territoire\": \"Nord\", \"Sujet\": \"Les factures d'énergie compliquées à lire\", \"Média\": \"La Voix du Nord\", \"Article\": \"Ces factures sont vraiment très compliquées à lire, il faut avoir fait Science Po ! lance Jean-Luc Debert, maire d’Oudezeele et vice-président de TEF en charge de la communication. D’où ce service que l’on propose à toutes les communes qui devront avoir délibéré avant le 31 décembre pour en profiter. Le Territoire d’Énergie Flandre s’étend d’Uxem à Laventie soit toutes les communes faisant partie de Cœur de Flandre agglo et des communautés de communes de Flandre Lys et des Hauts de Flandre, soit 98 communes. Parution : Continue \\u2191\"}{\"Date\": \"lundi 18 novembre 2024\", \"Territoire\": \"Pas-de-Calais\", \"Sujet\": \"Une requalification de l’espace\", \"Média\": \"Continue\", \"Article\": \"Un espace qui va être entièrement remodelé pour en faire un lieu à vivre. C’est un chantier d’envergure qui est effectivement prévu à cet endroit. Prévus pour durer 9 mois en plein travail (soit un peu plus d’une année avec les interruptions liées aux vacances) les travaux devraient être finalisés courant 2026. Le chantier sera bien visible à la mi-janvier même si les premiers travaux ont débuté le 9 novembre dernier. Les éléments préfabriqués sont en cours d’assemblage, ENEDIS et VEOLIA ont déjà programmé leurs interventions. Et l’ensemble devrait attirer les Étaplois et les touristes. Des miroirs d’eau, des brumisateurs, une liaison entre la jetée-promenade en réfection et celle existante, un jardin public... les changements ne seront pas que cosmétiques sur cet espace à fort potentiel. par Dominique Douchin Clp\"}{\"Date\": \"vendredi 27 décembre 2024\", \"Territoire\": \"Nord\", \"Sujet\": \"Un couple meurt dans l’incendie de son mobil-home\", \"Média\": \"La Voix du Nord\", \"Article\": \"Un couple de septuagénaires est décédé dans l’incendie de son mobil-home, hier soir à Prémesques. Leurs trois enfants, adultes, ont été pris en charge par les secours pour soigner leurs blessures et être accompagnés psychologiquement. Prémesques. Malgré la nuit déjà tombée à cette heure-là, un gros panache de fumée était visible de loin, hier soir, vers 19 h, depuis les alentours de Prémesques. Au pied de l’incendie, une trentaine de sapeurs-pompiers venus de Lomme, Armentières et Hazebrouck aspergeaient un mobil-home installé le long de la rue du Retour, à quelques dizaines de mètres seulement de la mairie. Ils n’ont malheureusement rien pu faire pour sauver les occupants du logement, un couple de septuagénaires bien connu dans le village. Piégés par les flammes, M. et Mme Desbuquoy étaient morts à leur arrivée. Plusieurs équipages du SMUR de Lille ont également été dépêchés sur place, ainsi que les services d’urgence d’Enedis et de GrDF. « C’est une famille qui habite là depuis très longtemps, je les rencontrais très régulièrement, explique le maire de Prémesques, Yvan Hutchinson, très ému. Ils étaient parfaitement intégrés, investis dans le milieu associatif. C’est une famille en difficulté sociale, mais qui ne se plaignait jamais et qui ne demandait rien. On leur a plusieurs fois proposé de les reloger, mais ils étaient heureux de vivre là, avec leurs animaux. » Les pompiers et les médecins ont pris en charge le fils du couple, victime de nombreuses coupures. Il aurait tenté de sauver ses parents, piégés dans le brasier. Âgé d’une quarantaine d’années, il a été conduit au CHR. L’une de ses sœurs, qui vivait elle aussi avec ses parents, a également été transportée à l’hôpital. La deuxième fille du couple, qui n’habite pas là, est arrivée sur place un peu plus tard. Elle a été prise en charge psychologiquement. Vu les circonstances indéterminées du sinistre, l’enquête a été confiée à la police judiciaire de Lille. Yvan Hutchinson annonce, de son côté, qu’un arrêté de péril sera pris « pour empêcher les curieux mal intentionnés de pénétrer sur le site ». Il va, en outre, provoquer une réunion de crise ce matin en mairie pour trouver une solution de relogement aux deux enfants du couple qui vivaient sur place. « La difficulté pour une petite commune rurale comme la nôtre est que nous n’avons pas de logements disponibles en urgence, explique le maire. Le préfet a proposé son aide et on va appeler les bailleurs sociaux. La fille de ces gens est handicapée, on veut lui trouver un logement digne, avec son frère. Une chose est sûre, on ne laissera personne dehors. »\"}{\"Date\": \"2024\", \"Territoire\": \"Nord\", \"Sujet\": \"Aider Laura Petit et ses enfants\", \"Média\": \"Le Courrier de Fourmies\", \"Article\": \"Pour aider Laura Petit et ses enfants, vous pouvez faire des dons 1 Impasse de la Fontaine à Anor. Tous droits réservés 2024 Le Courrier de Fourmies e96019518020200fd0b83d96a50d5116085A2dC9815aQc60869156a Parution : Hebdomadaire Diffusion : 2642 ex. (Diff. payée Fr.) - © ACPM DSH 2020-2021↑ 52.\"}{\"Date\": \"lundi 15 février 2021\", \"Territoire\": \"Nord\", \"Sujet\": \"Incendie dans une maison rurale : une enquête confiée à la police judiciaire\", \"Média\": \"La Voix du Nord\", \"Article\": \"Les pompiers et les médecins ont pris en charge le fils du couple, victime de nombreuses coupures. Il aurait tenté de sauver ses parents piégés dans le brasier. Âgé d’une quarantaine d’années, il a été conduit au CHR. L’une de ses sœurs, qui vivaient elle aussi avec ses parents, a également été transportée à l’hôpital. La deuxième fille du couple, qui n’habite pas là, est arrivée sur place un peu plus tard. Elle a été prise en charge psychologiquement. L’enquête confiée à la police judiciaire Vu les circonstances indéterminées du sinistre, l’enquête a été confiée à la police judiciaire de Lille. Yvan Hutchinson annonce de son côté qu’un arrêté de péril sera pris « pour empêcher les curieux mal intentionnés de pénétrer sur le site ». Il va en outre provoquer une réunion de crise ce vendredi matin en mairie pour trouver une solution de relogement aux deux enfants du couple qui vivaient sur place. « La difficulté pour une petite commune rurale comme la nôtre est que nous n’avons pas de logements disponibles en urgence, explique le maire. Le préfet a proposé son aide et on va appeler les bailleurs sociaux. La fille de ces gens est handicapée, on veut lui trouver un logement digne, avec son frère. Une chose est sûre, on ne laissera personne dehors. »\"}{\"Date\": \"lundi 15 février 2021\", \"Territoire\": \"Nord\", \"Sujet\": \"Planet’Aire à Blaringhem: un complexe sportif qui fait polémique\", \"Média\": \"La Voix du Nord\", \"Article\": \"parce que les matériaux venus de Chine étaient bloqués dans le canal de Suez et ont dû passer au-dessous de l’Afrique du Sud », explique Patrick Catteau, confirmant un bilan carbone plus lourd que prévu. « On achète ailleurs ce qu’on ne trouve pas en France » justifie son fils. D’autant plus que la taille du complexe et l’agrandissement prévu du parking encouragent à ne venir qu’en voiture. Mais sur ce sujet, Planet’Aire n’est pas le seul responsable. À lire aussi Blaringhem: à quelques kilomètres de Planet’Aire, le complexe sportif Hercule & Hops déjà ouvert satisfait-il les premiers visiteurs?\"}')'"
   ]
  },
  {
   "cell_type": "code",
   "execution_count": null,
   "metadata": {},
   "outputs": [],
   "source": []
  }
 ],
 "metadata": {
  "kernelspec": {
   "display_name": "Python 3",
   "language": "python",
   "name": "python3"
  },
  "language_info": {
   "codemirror_mode": {
    "name": "ipython",
    "version": 3
   },
   "file_extension": ".py",
   "mimetype": "text/x-python",
   "name": "python",
   "nbconvert_exporter": "python",
   "pygments_lexer": "ipython3",
   "version": "3.12.4"
  }
 },
 "nbformat": 4,
 "nbformat_minor": 2
}
