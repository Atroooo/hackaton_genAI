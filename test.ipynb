{
 "cells": [
  {
   "cell_type": "code",
   "execution_count": 1,
   "metadata": {},
   "outputs": [],
   "source": [
    "import pandas as pd"
   ]
  },
  {
   "cell_type": "markdown",
   "metadata": {},
   "source": []
  },
  {
   "cell_type": "code",
   "execution_count": 2,
   "metadata": {},
   "outputs": [],
   "source": [
    "df = pd.read_excel('Data.xlsx')\n"
   ]
  },
  {
   "cell_type": "code",
   "execution_count": 3,
   "metadata": {},
   "outputs": [
    {
     "name": "stdout",
     "output_type": "stream",
     "text": [
      "        Date      Territoire  \\\n",
      "0 2023-01-02   Pas-de-Calais   \n",
      "1 2023-01-02  Pas-de-Calais    \n",
      "2 2023-01-02            Nord   \n",
      "3 2023-01-02   Pas-de-Calais   \n",
      "4 2023-01-02   Pas-de-Calais   \n",
      "5 2023-01-02   Pas-de-Calais   \n",
      "6 2023-01-02   Pas-de-Calais   \n",
      "7 2023-01-04            Nord   \n",
      "8 2023-01-04   Pas-de-Calais   \n",
      "9 2023-01-05            Nord   \n",
      "\n",
      "                                               Sujet                   Thème  \\\n",
      "0   Une maison à l'abandon détruite dans un incendie                  Divers   \n",
      "1     Trois familles relogés après un court-circuit                  Divers    \n",
      "2    Suite à une panne, 179 foyers privés de courant                  Réseau   \n",
      "3  Plus de coupures d'éléctricté, mais des dégâts...                  réseau   \n",
      "4  Les décharges remplacés par deux centrales pho...  Transition écologique    \n",
      "5        Une tempête Eunice qui à laissé des traces       Aléas climatiques    \n",
      "6                 Le feu das un immeuble désaffecté                   Divers   \n",
      "7  Enedis renouvelle son réseau dans plusieurs rues             Raccordement   \n",
      "8     Des coupures de courant en raison des travaux                   Réseau   \n",
      "9              les coupures d'éléctricté inquiètent                   Réseau   \n",
      "\n",
      "   Nbre d'article Qualité du retour                   Média  \\\n",
      "0             2.0           Factuel        La voix du Nord    \n",
      "1             1.0           Factuel        La voix du Nord    \n",
      "2             1.0  Factuel négatif         La voix du Nord    \n",
      "3             2.0           Négatif        La voix du Nord    \n",
      "4             1.0           Factuel        La voix du Nord    \n",
      "5             1.0           positif        La voix du Nord    \n",
      "6             2.0           Factuel        La voix du Nord    \n",
      "7             4.0         Factuel            Nord Littoral    \n",
      "8             1.0           Factuel   L'Avenir de l'Artois    \n",
      "9             1.0           Factuel  Le courrier de fourmis   \n",
      "\n",
      "                                            Articles Qualité du retour2  \\\n",
      "0  Une maison à l'abandon détruite dans un incend...            Factuel   \n",
      "1  Trois familles relogées après un court-circuit...            Factuel   \n",
      "2  Suite à une panne, 179 foyers privés de couran...   Factuel négatif    \n",
      "3  Plus de coupures d'électricité, mais des dégât...            Négatif   \n",
      "4   les décharges remplacées par deux centrales\\n...            Factuel   \n",
      "5  Une tempête Eunice qui a laissé des traces Ven...            positif   \n",
      "6  Le feu dans un immeuble désaffecté MONTIGNY-EN...            Factuel   \n",
      "7  Enedis renouvelle son réseau dans plusieurs ru...          Factuel     \n",
      "8  Des coupures de courant en raison des travauxF...            Factuel   \n",
      "9  COMMENT SE PRÉPARE-T-ON ?\\nLes coupures d’élec...            Factuel   \n",
      "\n",
      "           Tonalité  \n",
      "0           factuel  \n",
      "1           factuel  \n",
      "2  factuel négatif   \n",
      "3           négatif  \n",
      "4           factuel  \n",
      "5           positif  \n",
      "6           factuel  \n",
      "7         factuel    \n",
      "8           factuel  \n",
      "9           factuel  \n"
     ]
    }
   ],
   "source": [
    "print(df.head(10))"
   ]
  },
  {
   "cell_type": "code",
   "execution_count": 4,
   "metadata": {},
   "outputs": [
    {
     "name": "stdout",
     "output_type": "stream",
     "text": [
      "Thème\n",
      " Divers                                     1\n",
      " Mobilité électrique                        1\n",
      " réseau                                     1\n",
      "ALEAS CLIMATIQUE                          207\n",
      "Aléas Climatiques                           9\n",
      "Aléas climatique                            4\n",
      "Aléas climatiques                           8\n",
      "Aléas climatiques                           6\n",
      "CLIENTS                                     1\n",
      "Clients                                    16\n",
      "Clients                                     3\n",
      "Divers                                    448\n",
      "Divers                                      5\n",
      "Grèves                                     17\n",
      "Innovation                                  3\n",
      "Linky                                       7\n",
      "Marque employeur / RH                       1\n",
      "Marque employeur/RH                         2\n",
      "Mobilité électrique                         4\n",
      "Mobilité électrique                         3\n",
      "Partenariats industriels / académiques     28\n",
      "Prévention                                 10\n",
      "RH                                         16\n",
      "RH - Partenariat - RSE                      1\n",
      "RSE                                        13\n",
      "Raccordement                               35\n",
      "Réseau                                    145\n",
      "Réseau                                     25\n",
      "Transition écologique                      49\n",
      "cleints                                     1\n",
      "clients                                     8\n",
      "divers                                    146\n",
      "divers                                      2\n",
      "linky                                       1\n",
      "mobilité électrique                         4\n",
      "rh                                          1\n",
      "rse                                         3\n",
      "réseau                                     95\n",
      "réseau                                      6\n",
      "transition écologique                      39\n",
      "Name: Date, dtype: int64\n"
     ]
    }
   ],
   "source": [
    "print(df.groupby('Thème')[\"Date\"].count())"
   ]
  },
  {
   "cell_type": "markdown",
   "metadata": {},
   "source": [
    "Divers, Mobilité électrique, Réseau, Aléas Climatiques, Clients, Grèves, Innovation, Linky, Marque employeur / RH, Partenariats industriels / académiques, Prévention, Raccordement, Transition écologique"
   ]
  },
  {
   "cell_type": "code",
   "execution_count": 5,
   "metadata": {},
   "outputs": [],
   "source": [
    "# for i in range (0, len(df)):\n",
    "#     print(df['Articles'][i])"
   ]
  },
  {
   "cell_type": "code",
   "execution_count": 19,
   "metadata": {},
   "outputs": [],
   "source": [
    "other_prompt = {\"text\": \"Vous êtes un système d'analyse de sentiment. Instructions de langue: \\\n",
    "                    Langue d'entrée: français, Langue de sortie: français \\\n",
    "                    Il faudra 2 classifications: \\\n",
    "                        Sentiments: Positif, Négatif, Factuel, Factuel positif, Factuel négatif. \\\n",
    "                        Catégories: Divers, Mobilité électrique, Réseau, Aléas Climatiques, Clients, Grèves, Innovation, Linky, Marque employeur / RH, Partenariats industriels / académiques, Prévention, Raccordement, Transition écologique. \\\n",
    "                    Format de réponse: sentiment, catégorie\"}"
   ]
  },
  {
   "cell_type": "code",
   "execution_count": 8,
   "metadata": {},
   "outputs": [],
   "source": [
    "result = pd.read_excel('results.xlsx')"
   ]
  },
  {
   "cell_type": "code",
   "execution_count": 12,
   "metadata": {},
   "outputs": [
    {
     "name": "stdout",
     "output_type": "stream",
     "text": [
      "<class 'pandas.core.frame.DataFrame'>\n",
      "RangeIndex: 50 entries, 0 to 49\n",
      "Data columns (total 8 columns):\n",
      " #   Column      Non-Null Count  Dtype \n",
      "---  ------      --------------  ----- \n",
      " 0   Unnamed: 0  50 non-null     int64 \n",
      " 1   Date        48 non-null     object\n",
      " 2   Territoire  50 non-null     object\n",
      " 3   Sujet       50 non-null     object\n",
      " 4   Catégorie   50 non-null     object\n",
      " 5   Sentiment   50 non-null     object\n",
      " 6   Média       49 non-null     object\n",
      " 7   Article     50 non-null     object\n",
      "dtypes: int64(1), object(7)\n",
      "memory usage: 3.3+ KB\n"
     ]
    }
   ],
   "source": [
    "result.info()"
   ]
  },
  {
   "cell_type": "code",
   "execution_count": 10,
   "metadata": {},
   "outputs": [],
   "source": [
    "data = pd.read_excel('Data.xlsx')"
   ]
  },
  {
   "cell_type": "code",
   "execution_count": 11,
   "metadata": {},
   "outputs": [
    {
     "data": {
      "text/html": [
       "<div>\n",
       "<style scoped>\n",
       "    .dataframe tbody tr th:only-of-type {\n",
       "        vertical-align: middle;\n",
       "    }\n",
       "\n",
       "    .dataframe tbody tr th {\n",
       "        vertical-align: top;\n",
       "    }\n",
       "\n",
       "    .dataframe thead th {\n",
       "        text-align: right;\n",
       "    }\n",
       "</style>\n",
       "<table border=\"1\" class=\"dataframe\">\n",
       "  <thead>\n",
       "    <tr style=\"text-align: right;\">\n",
       "      <th></th>\n",
       "      <th>Date</th>\n",
       "      <th>Territoire</th>\n",
       "      <th>Sujet</th>\n",
       "      <th>Thème</th>\n",
       "      <th>Nbre d'article</th>\n",
       "      <th>Qualité du retour</th>\n",
       "      <th>Média</th>\n",
       "      <th>Articles</th>\n",
       "      <th>Qualité du retour2</th>\n",
       "      <th>Tonalité</th>\n",
       "    </tr>\n",
       "  </thead>\n",
       "  <tbody>\n",
       "    <tr>\n",
       "      <th>0</th>\n",
       "      <td>2023-01-02</td>\n",
       "      <td>Pas-de-Calais</td>\n",
       "      <td>Une maison à l'abandon détruite dans un incendie</td>\n",
       "      <td>Divers</td>\n",
       "      <td>2.0</td>\n",
       "      <td>Factuel</td>\n",
       "      <td>La voix du Nord</td>\n",
       "      <td>Une maison à l'abandon détruite dans un incend...</td>\n",
       "      <td>Factuel</td>\n",
       "      <td>factuel</td>\n",
       "    </tr>\n",
       "    <tr>\n",
       "      <th>1</th>\n",
       "      <td>2023-01-02</td>\n",
       "      <td>Pas-de-Calais</td>\n",
       "      <td>Trois familles relogés après un court-circuit</td>\n",
       "      <td>Divers</td>\n",
       "      <td>1.0</td>\n",
       "      <td>Factuel</td>\n",
       "      <td>La voix du Nord</td>\n",
       "      <td>Trois familles relogées après un court-circuit...</td>\n",
       "      <td>Factuel</td>\n",
       "      <td>factuel</td>\n",
       "    </tr>\n",
       "    <tr>\n",
       "      <th>2</th>\n",
       "      <td>2023-01-02</td>\n",
       "      <td>Nord</td>\n",
       "      <td>Suite à une panne, 179 foyers privés de courant</td>\n",
       "      <td>Réseau</td>\n",
       "      <td>1.0</td>\n",
       "      <td>Factuel négatif</td>\n",
       "      <td>La voix du Nord</td>\n",
       "      <td>Suite à une panne, 179 foyers privés de couran...</td>\n",
       "      <td>Factuel négatif</td>\n",
       "      <td>factuel négatif</td>\n",
       "    </tr>\n",
       "    <tr>\n",
       "      <th>3</th>\n",
       "      <td>2023-01-02</td>\n",
       "      <td>Pas-de-Calais</td>\n",
       "      <td>Plus de coupures d'éléctricté, mais des dégâts...</td>\n",
       "      <td>réseau</td>\n",
       "      <td>2.0</td>\n",
       "      <td>Négatif</td>\n",
       "      <td>La voix du Nord</td>\n",
       "      <td>Plus de coupures d'électricité, mais des dégât...</td>\n",
       "      <td>Négatif</td>\n",
       "      <td>négatif</td>\n",
       "    </tr>\n",
       "    <tr>\n",
       "      <th>4</th>\n",
       "      <td>2023-01-02</td>\n",
       "      <td>Pas-de-Calais</td>\n",
       "      <td>Les décharges remplacés par deux centrales pho...</td>\n",
       "      <td>Transition écologique</td>\n",
       "      <td>1.0</td>\n",
       "      <td>Factuel</td>\n",
       "      <td>La voix du Nord</td>\n",
       "      <td>les décharges remplacées par deux centrales\\n...</td>\n",
       "      <td>Factuel</td>\n",
       "      <td>factuel</td>\n",
       "    </tr>\n",
       "  </tbody>\n",
       "</table>\n",
       "</div>"
      ],
      "text/plain": [
       "        Date      Territoire  \\\n",
       "0 2023-01-02   Pas-de-Calais   \n",
       "1 2023-01-02  Pas-de-Calais    \n",
       "2 2023-01-02            Nord   \n",
       "3 2023-01-02   Pas-de-Calais   \n",
       "4 2023-01-02   Pas-de-Calais   \n",
       "\n",
       "                                               Sujet                   Thème  \\\n",
       "0   Une maison à l'abandon détruite dans un incendie                  Divers   \n",
       "1     Trois familles relogés après un court-circuit                  Divers    \n",
       "2    Suite à une panne, 179 foyers privés de courant                  Réseau   \n",
       "3  Plus de coupures d'éléctricté, mais des dégâts...                  réseau   \n",
       "4  Les décharges remplacés par deux centrales pho...  Transition écologique    \n",
       "\n",
       "   Nbre d'article Qualité du retour             Média  \\\n",
       "0             2.0           Factuel  La voix du Nord    \n",
       "1             1.0           Factuel  La voix du Nord    \n",
       "2             1.0  Factuel négatif   La voix du Nord    \n",
       "3             2.0           Négatif  La voix du Nord    \n",
       "4             1.0           Factuel  La voix du Nord    \n",
       "\n",
       "                                            Articles Qualité du retour2  \\\n",
       "0  Une maison à l'abandon détruite dans un incend...            Factuel   \n",
       "1  Trois familles relogées après un court-circuit...            Factuel   \n",
       "2  Suite à une panne, 179 foyers privés de couran...   Factuel négatif    \n",
       "3  Plus de coupures d'électricité, mais des dégât...            Négatif   \n",
       "4   les décharges remplacées par deux centrales\\n...            Factuel   \n",
       "\n",
       "           Tonalité  \n",
       "0           factuel  \n",
       "1           factuel  \n",
       "2  factuel négatif   \n",
       "3           négatif  \n",
       "4           factuel  "
      ]
     },
     "execution_count": 11,
     "metadata": {},
     "output_type": "execute_result"
    }
   ],
   "source": [
    "data.head()"
   ]
  },
  {
   "cell_type": "code",
   "execution_count": 15,
   "metadata": {},
   "outputs": [],
   "source": [
    "data = data.drop(columns=['Qualité du retour2', 'Tonalité'])"
   ]
  },
  {
   "cell_type": "code",
   "execution_count": 16,
   "metadata": {},
   "outputs": [
    {
     "data": {
      "text/html": [
       "<div>\n",
       "<style scoped>\n",
       "    .dataframe tbody tr th:only-of-type {\n",
       "        vertical-align: middle;\n",
       "    }\n",
       "\n",
       "    .dataframe tbody tr th {\n",
       "        vertical-align: top;\n",
       "    }\n",
       "\n",
       "    .dataframe thead th {\n",
       "        text-align: right;\n",
       "    }\n",
       "</style>\n",
       "<table border=\"1\" class=\"dataframe\">\n",
       "  <thead>\n",
       "    <tr style=\"text-align: right;\">\n",
       "      <th></th>\n",
       "      <th>Date</th>\n",
       "      <th>Territoire</th>\n",
       "      <th>Sujet</th>\n",
       "      <th>Thème</th>\n",
       "      <th>Nbre d'article</th>\n",
       "      <th>Qualité du retour</th>\n",
       "      <th>Média</th>\n",
       "      <th>Articles</th>\n",
       "    </tr>\n",
       "  </thead>\n",
       "  <tbody>\n",
       "    <tr>\n",
       "      <th>0</th>\n",
       "      <td>2023-01-02</td>\n",
       "      <td>Pas-de-Calais</td>\n",
       "      <td>Une maison à l'abandon détruite dans un incendie</td>\n",
       "      <td>Divers</td>\n",
       "      <td>2.0</td>\n",
       "      <td>Factuel</td>\n",
       "      <td>La voix du Nord</td>\n",
       "      <td>Une maison à l'abandon détruite dans un incend...</td>\n",
       "    </tr>\n",
       "    <tr>\n",
       "      <th>1</th>\n",
       "      <td>2023-01-02</td>\n",
       "      <td>Pas-de-Calais</td>\n",
       "      <td>Trois familles relogés après un court-circuit</td>\n",
       "      <td>Divers</td>\n",
       "      <td>1.0</td>\n",
       "      <td>Factuel</td>\n",
       "      <td>La voix du Nord</td>\n",
       "      <td>Trois familles relogées après un court-circuit...</td>\n",
       "    </tr>\n",
       "    <tr>\n",
       "      <th>2</th>\n",
       "      <td>2023-01-02</td>\n",
       "      <td>Nord</td>\n",
       "      <td>Suite à une panne, 179 foyers privés de courant</td>\n",
       "      <td>Réseau</td>\n",
       "      <td>1.0</td>\n",
       "      <td>Factuel négatif</td>\n",
       "      <td>La voix du Nord</td>\n",
       "      <td>Suite à une panne, 179 foyers privés de couran...</td>\n",
       "    </tr>\n",
       "    <tr>\n",
       "      <th>3</th>\n",
       "      <td>2023-01-02</td>\n",
       "      <td>Pas-de-Calais</td>\n",
       "      <td>Plus de coupures d'éléctricté, mais des dégâts...</td>\n",
       "      <td>réseau</td>\n",
       "      <td>2.0</td>\n",
       "      <td>Négatif</td>\n",
       "      <td>La voix du Nord</td>\n",
       "      <td>Plus de coupures d'électricité, mais des dégât...</td>\n",
       "    </tr>\n",
       "    <tr>\n",
       "      <th>4</th>\n",
       "      <td>2023-01-02</td>\n",
       "      <td>Pas-de-Calais</td>\n",
       "      <td>Les décharges remplacés par deux centrales pho...</td>\n",
       "      <td>Transition écologique</td>\n",
       "      <td>1.0</td>\n",
       "      <td>Factuel</td>\n",
       "      <td>La voix du Nord</td>\n",
       "      <td>les décharges remplacées par deux centrales\\n...</td>\n",
       "    </tr>\n",
       "  </tbody>\n",
       "</table>\n",
       "</div>"
      ],
      "text/plain": [
       "        Date      Territoire  \\\n",
       "0 2023-01-02   Pas-de-Calais   \n",
       "1 2023-01-02  Pas-de-Calais    \n",
       "2 2023-01-02            Nord   \n",
       "3 2023-01-02   Pas-de-Calais   \n",
       "4 2023-01-02   Pas-de-Calais   \n",
       "\n",
       "                                               Sujet                   Thème  \\\n",
       "0   Une maison à l'abandon détruite dans un incendie                  Divers   \n",
       "1     Trois familles relogés après un court-circuit                  Divers    \n",
       "2    Suite à une panne, 179 foyers privés de courant                  Réseau   \n",
       "3  Plus de coupures d'éléctricté, mais des dégâts...                  réseau   \n",
       "4  Les décharges remplacés par deux centrales pho...  Transition écologique    \n",
       "\n",
       "   Nbre d'article Qualité du retour             Média  \\\n",
       "0             2.0           Factuel  La voix du Nord    \n",
       "1             1.0           Factuel  La voix du Nord    \n",
       "2             1.0  Factuel négatif   La voix du Nord    \n",
       "3             2.0           Négatif  La voix du Nord    \n",
       "4             1.0           Factuel  La voix du Nord    \n",
       "\n",
       "                                            Articles  \n",
       "0  Une maison à l'abandon détruite dans un incend...  \n",
       "1  Trois familles relogées après un court-circuit...  \n",
       "2  Suite à une panne, 179 foyers privés de couran...  \n",
       "3  Plus de coupures d'électricité, mais des dégât...  \n",
       "4   les décharges remplacées par deux centrales\\n...  "
      ]
     },
     "execution_count": 16,
     "metadata": {},
     "output_type": "execute_result"
    }
   ],
   "source": [
    "data.head()"
   ]
  },
  {
   "cell_type": "code",
   "execution_count": 45,
   "metadata": {},
   "outputs": [],
   "source": [
    "json = data.to_json(orient='records')\n"
   ]
  },
  {
   "cell_type": "code",
   "execution_count": 46,
   "metadata": {},
   "outputs": [],
   "source": [
    "with open('output.json', 'w') as f:\n",
    "    f.write(json)"
   ]
  },
  {
   "cell_type": "code",
   "execution_count": 36,
   "metadata": {},
   "outputs": [],
   "source": [
    "backup = data.copy()"
   ]
  },
  {
   "cell_type": "code",
   "execution_count": 40,
   "metadata": {},
   "outputs": [],
   "source": [
    "data = backup.copy()"
   ]
  },
  {
   "cell_type": "code",
   "execution_count": 44,
   "metadata": {},
   "outputs": [],
   "source": [
    "data['text'] = data['text'].astype(str).str.replace(r'[éèêë]', 'e', regex=True).str.replace(r'[àâä]', 'a', regex=True).str.replace(r'[ç]', 'c')\n",
    "data['sujet'] = data['sujet'].astype(str).str.replace(r'[éèêë]', 'e', regex=True).str.replace(r'[àâä]', 'a', regex=True).str.replace(r'[ç]', 'c')"
   ]
  },
  {
   "cell_type": "code",
   "execution_count": 42,
   "metadata": {},
   "outputs": [],
   "source": [
    "data = data.rename(columns={'Date': 'timestamp', 'Territoire': 'territoire', 'Sujet': 'sujet', 'Articles': 'text', 'Thème': 'theme', 'Qualité du retour': 'retour', 'Média': 'media'})"
   ]
  },
  {
   "cell_type": "code",
   "execution_count": 68,
   "metadata": {},
   "outputs": [],
   "source": [
    "examples = data.copy()\n",
    "examples.drop(columns=['timestamp', 'territoire', 'sujet', 'media'], inplace=True)"
   ]
  },
  {
   "cell_type": "code",
   "execution_count": 70,
   "metadata": {},
   "outputs": [
    {
     "name": "stdout",
     "output_type": "stream",
     "text": [
      "                       theme            retour  \\\n",
      "0                     Divers           Factuel   \n",
      "1                    Divers            Factuel   \n",
      "2                     Réseau  Factuel négatif    \n",
      "3                     réseau           Négatif   \n",
      "4     Transition écologique            Factuel   \n",
      "...                      ...               ...   \n",
      "1370                  divers           factuel   \n",
      "1371                  réseau    négatif nuancé   \n",
      "1372                  réseau           factuel   \n",
      "1373                  divers           factuel   \n",
      "1374  transition écologique            factuel   \n",
      "\n",
      "                                                   text  \n",
      "0     Une maison a l'abandon detruite dans un incend...  \n",
      "1     Trois familles relogees apres un court-circuit...  \n",
      "2     Suite a une panne, 179 foyers prives de couran...  \n",
      "3     Plus de coupures d'electricite, mais des degat...  \n",
      "4      les decharges remplacees par deux centrales\\n...  \n",
      "...                                                 ...  \n",
      "1370  Vendredi 26 juillet, au matin, les pompiers so...  \n",
      "1371  Selon Enedis, la panne causee\\navant-hier apre...  \n",
      "1372  La piscine intercommunale rouvre ses portes au...  \n",
      "1373  Ce lundi 22 juillet, aux environs\\nde 20h, les...  \n",
      "1374  Du côte de l’ecole elementaire\\nLeo-Lagrange, ...  \n",
      "\n",
      "[1375 rows x 3 columns]\n"
     ]
    }
   ],
   "source": [
    "print(examples)"
   ]
  },
  {
   "cell_type": "code",
   "execution_count": 71,
   "metadata": {},
   "outputs": [],
   "source": [
    "examples = examples.dropna()"
   ]
  },
  {
   "cell_type": "code",
   "execution_count": 72,
   "metadata": {},
   "outputs": [
    {
     "name": "stdout",
     "output_type": "stream",
     "text": [
      "theme     0\n",
      "retour    0\n",
      "text      0\n",
      "dtype: int64\n"
     ]
    }
   ],
   "source": [
    "print(examples.isna().sum())"
   ]
  },
  {
   "cell_type": "code",
   "execution_count": 73,
   "metadata": {},
   "outputs": [],
   "source": [
    "examples_clean = examples.sample(20).dropna()"
   ]
  },
  {
   "cell_type": "code",
   "execution_count": 74,
   "metadata": {},
   "outputs": [],
   "source": [
    "json = examples_clean.to_json(orient='records')\n",
    "with open('examples.json', 'w') as f:\n",
    "    f.write(json)"
   ]
  },
  {
   "cell_type": "code",
   "execution_count": null,
   "metadata": {},
   "outputs": [],
   "source": []
  }
 ],
 "metadata": {
  "kernelspec": {
   "display_name": "Python 3",
   "language": "python",
   "name": "python3"
  },
  "language_info": {
   "codemirror_mode": {
    "name": "ipython",
    "version": 3
   },
   "file_extension": ".py",
   "mimetype": "text/x-python",
   "name": "python",
   "nbconvert_exporter": "python",
   "pygments_lexer": "ipython3",
   "version": "3.12.4"
  }
 },
 "nbformat": 4,
 "nbformat_minor": 2
}
